{
  "nbformat": 4,
  "nbformat_minor": 0,
  "metadata": {
    "colab": {
      "provenance": [],
      "gpuType": "V28"
    },
    "kernelspec": {
      "name": "python3",
      "display_name": "Python 3"
    },
    "language_info": {
      "name": "python"
    },
    "accelerator": "TPU"
  },
  "cells": [
    {
      "cell_type": "code",
      "execution_count": 1,
      "metadata": {
        "colab": {
          "base_uri": "https://localhost:8080/"
        },
        "id": "mTo8qsDTYwx9",
        "outputId": "0202a21a-80f5-4aef-dfad-9edc2f25aa82"
      },
      "outputs": [
        {
          "output_type": "stream",
          "name": "stdout",
          "text": [
            "Drive already mounted at /content/drive; to attempt to forcibly remount, call drive.mount(\"/content/drive\", force_remount=True).\n",
            "Runtime RAM: 334 GB\n"
          ]
        }
      ],
      "source": [
        "import os, psutil, math\n",
        "from google.colab import drive\n",
        "\n",
        "drive.mount('/content/drive')\n",
        "# Ile realnego RAM-u?\n",
        "total_gb = math.floor(psutil.virtual_memory().total / 1024**3)\n",
        "print(\"Runtime RAM:\", total_gb, \"GB\")\n",
        "\n",
        "os.environ[\"JAVA_HOME\"] = \"/usr/lib/jvm/java-11-openjdk-amd64\"\n",
        "os.environ[\"PYSPARK_SUBMIT_ARGS\"] = (\n",
        "    \"--driver-memory 300g \"                 # rozsądny heap\n",
        "    \"--conf spark.driver.maxResultSize=30g \"\n",
        "    \"pyspark-shell\"\n",
        ")\n",
        "\n",
        "from pyspark.sql import SparkSession\n",
        "\n",
        "NUM_CORES   = os.cpu_count()                 # np. 96\n",
        "NUM_WORKERS = NUM_CORES                      # używaj wszystkich\n",
        "\n",
        "spark = (\n",
        "    SparkSession.builder\n",
        "        .appName(\"xgb-fast\")\n",
        "        .master(f\"local[{NUM_CORES}]\")       # wyraźnie podaj liczbę rdzeni\n",
        "        # 4×-8× tyle partycji co rdzeni (AQE później je sklei)\n",
        "        .config(\"spark.sql.shuffle.partitions\", NUM_CORES * 4)\n",
        "        .config(\"spark.sql.adaptive.enabled\", \"true\")\n",
        "        .config(\"spark.sql.adaptive.coalescePartitions.enabled\", \"true\")\n",
        "        .getOrCreate()\n",
        ")\n"
      ]
    },
    {
      "cell_type": "code",
      "source": [
        "from pyspark.ml.feature import VectorAssembler\n",
        "\n",
        "df = spark.read.parquet(\"/content/drive/MyDrive/add/ml-latest/output/pred.parquet\")\n",
        "\n",
        "df = df.fillna(0)\n",
        "\n",
        "\"\"\"\n",
        "SAMPLE_FRAC = 0.01\n",
        "SEED        = 42\n",
        "\n",
        "df = df.sample(\n",
        "    withReplacement=False,\n",
        "    fraction=SAMPLE_FRAC,\n",
        "    seed=SEED,\n",
        ")\"\"\"\n",
        "\n",
        "feature_cols = [c for c in df.columns if c not in (\"movieId\", \"rating\")]\n",
        "\n",
        "num_workers = spark.sparkContext.defaultParallelism\n",
        "df_vect = (\n",
        "    df\n",
        "    .repartition(num_workers)          # równoległość\n",
        "    .persist()                         # w pamięci\n",
        ")\n",
        "\n",
        "\n",
        "assembler = VectorAssembler(\n",
        "    inputCols=feature_cols,\n",
        "    outputCol=\"features\"\n",
        ")\n",
        "dataset = assembler.transform(df_vect).select(\"features\", \"rating\")\n",
        "\n",
        "# split 80/20:\n",
        "train_df, val_df = dataset.randomSplit([0.8, 0.2], seed=42)"
      ],
      "metadata": {
        "id": "NFRwABYYa5kQ"
      },
      "execution_count": 2,
      "outputs": []
    },
    {
      "cell_type": "code",
      "source": [
        "from xgboost.spark import SparkXGBRegressor\n",
        "from pyspark.ml.evaluation import RegressionEvaluator\n",
        "from pyspark.sql import functions as F\n",
        "\n",
        "xgb_reg = SparkXGBRegressor(\n",
        "    features_col      =\"features\",\n",
        "    label_col         =\"rating\",\n",
        "    prediction_col    =\"prediction\",\n",
        "    num_workers       =NUM_WORKERS,\n",
        "    tree_method       =\"hist\",\n",
        "    objective         =\"reg:squarederror\",\n",
        "    cacheTrainingSet  = True,\n",
        "    num_boost_round = 50\n",
        ")\n",
        "\n",
        "\n",
        "xgb_model = xgb_reg.fit(train_df)\n",
        "\n",
        "# Predykcje i ocena:\n",
        "preds = xgb_model.transform(val_df)\n",
        "evaluator = RegressionEvaluator(\n",
        "    labelCol=\"rating\",\n",
        "    predictionCol=\"prediction\",\n",
        "    metricName=\"rmse\"\n",
        ")\n",
        "rmse = evaluator.evaluate(preds)\n",
        "print(f\"Validation RMSE: {rmse:.4f}\")\n",
        "\n",
        "# zaokrąglenie do 0.5\n",
        "preds = preds.withColumn(\n",
        "    \"prediction\",\n",
        "    F.round(F.col(\"prediction\") * 2) / 2\n",
        ")\n",
        "\n",
        "preds.select(\"prediction\", \"rating\").show(5, truncate=False)\n"
      ],
      "metadata": {
        "colab": {
          "base_uri": "https://localhost:8080/"
        },
        "id": "kLXGd0wAa8cG",
        "outputId": "1413a3a0-5253-4cde-92ce-62976ec79937"
      },
      "execution_count": 4,
      "outputs": [
        {
          "output_type": "stream",
          "name": "stderr",
          "text": [
            "INFO:XGBoost-PySpark:Running xgboost-2.0.3 on 96 workers with\n",
            "\tbooster params: {'objective': 'reg:squarederror', 'device': 'cpu', 'tree_method': 'hist', 'cacheTrainingSet': True, 'nthread': 1}\n",
            "\ttrain_call_kwargs_params: {'num_boost_round': 100, 'verbose_eval': True}\n",
            "\tdmatrix_kwargs: {'nthread': 1, 'missing': nan}\n",
            "INFO:XGBoost-PySpark:Finished xgboost training!\n"
          ]
        },
        {
          "output_type": "stream",
          "name": "stdout",
          "text": [
            "Validation RMSE: 0.9737\n",
            "+----------+------+\n",
            "|prediction|rating|\n",
            "+----------+------+\n",
            "|3.0       |3.0   |\n",
            "|3.0       |3.5   |\n",
            "|3.5       |3.5   |\n",
            "|3.0       |3.5   |\n",
            "|3.0       |5.0   |\n",
            "+----------+------+\n",
            "only showing top 5 rows\n",
            "\n"
          ]
        }
      ]
    },
    {
      "cell_type": "code",
      "source": [
        "from pyspark.ml.evaluation import RegressionEvaluator\n",
        "from pyspark.sql import functions as F\n",
        "\n",
        "metrics = {\n",
        "    \"r2\":         \"R²\",\n",
        "    \"rmse\":       \"RMSE\",\n",
        "    \"mae\":        \"MAE\",\n",
        "    \"var\":        \"Explained variance\"\n",
        "}\n",
        "\n",
        "for m, label in metrics.items():\n",
        "    val = RegressionEvaluator(\n",
        "            labelCol=\"rating\",\n",
        "            predictionCol=\"prediction\",\n",
        "            metricName=m\n",
        "          ).evaluate(preds)\n",
        "    print(f\"{label:20s}: {val:.4f}\")\n",
        "\n",
        "mape = (\n",
        "    preds\n",
        "    .withColumn(\"ape\", F.abs((F.col(\"rating\") - F.col(\"prediction\")) / F.col(\"rating\")))\n",
        "    .agg(F.mean(\"ape\"))\n",
        "    .first()[0]\n",
        ")\n",
        "\n",
        "print(f\"{'MAPE':20s}: {mape * 100:.2f}%\")\n"
      ],
      "metadata": {
        "colab": {
          "base_uri": "https://localhost:8080/"
        },
        "id": "oQMksas8t20A",
        "outputId": "96a65ae5-a762-43e0-9edb-d3d5ff18055c"
      },
      "execution_count": 17,
      "outputs": [
        {
          "output_type": "stream",
          "name": "stdout",
          "text": [
            "R²                  : 0.1504\n",
            "RMSE                : 0.9855\n",
            "MAE                 : 0.7431\n",
            "Explained variance  : 0.2413\n",
            "MAPE                : 35.42%\n"
          ]
        }
      ]
    },
    {
      "cell_type": "code",
      "source": [
        "import pandas as pd\n",
        "import matplotlib.pyplot as plt\n",
        "\n",
        "\n",
        "MODEL        = xgb_model\n",
        "FEATURE_COLS = feature_cols\n",
        "TOP_K        = 15\n",
        "\n",
        "booster = MODEL.get_booster()                         # xgboost.Booster\n",
        "raw_imp = booster.get_score(importance_type=\"gain\")\n",
        "\n",
        "\n",
        "imp_rows = []\n",
        "for fid, score in raw_imp.items():\n",
        "    idx = int(fid[1:])\n",
        "    name = FEATURE_COLS[idx] if idx < len(FEATURE_COLS) else fid\n",
        "    imp_rows.append((name, score))\n",
        "\n",
        "df_imp = (pd.DataFrame(imp_rows, columns=[\"feature\", \"gain\"])\n",
        "            .sort_values(\"gain\", ascending=False)\n",
        "            .head(TOP_K)\n",
        "            .reset_index(drop=True))\n",
        "\n",
        "\n",
        "\n",
        "plt.figure(figsize=(8, min(12, TOP_K * 0.4)))\n",
        "plt.barh(df_imp[\"feature\"][::-1], df_imp[\"gain\"][::-1])\n",
        "plt.title(f\"TOP {TOP_K} feature importance (gain)\")\n",
        "plt.xlabel(\"Gain\")\n",
        "plt.tight_layout()\n",
        "plt.show()\n"
      ],
      "metadata": {
        "colab": {
          "base_uri": "https://localhost:8080/",
          "height": 607
        },
        "id": "DHMPSweUw-aK",
        "outputId": "0ce797c1-5d3e-4f6d-f3e3-004d11ba8e6e"
      },
      "execution_count": 16,
      "outputs": [
        {
          "output_type": "display_data",
          "data": {
            "text/plain": [
              "<Figure size 800x600 with 1 Axes>"
            ],
            "image/png": "[encoded data removed]"
          },
          "metadata": {}
        }
      ]
    },
    {
      "cell_type": "code",
      "source": [],
      "metadata": {
        "id": "H0YkjpyFxozI"
      },
      "execution_count": null,
      "outputs": []
    }
  ]
}
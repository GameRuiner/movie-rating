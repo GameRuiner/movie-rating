{
  "cells": [
    {
      "cell_type": "markdown",
      "metadata": {
        "id": "2rJvjMpUS8Nu"
      },
      "source": [
        "#Autorzy\n",
        "*   Marko Golovko\n",
        "*   Arkadiusz Stryjewski\n",
        "*   Mateusz Durak\n",
        "\n"
      ]
    },
    {
      "cell_type": "markdown",
      "metadata": {
        "id": "fOxBfTQvTdXY"
      },
      "source": [
        "## Wymagania\n",
        "\n",
        "**Raport, który zawiera następujące informacje:**\n",
        "\n",
        "- Wstęp i cel badania  \n",
        "- Opis danych i ich cechy, np. typ danych, liczba atrybutów, liczba rekordów, rozkład klas decyzyjnych (o ile istnieją)  \n",
        "- Metodologia i rozwiązanie  \n",
        "- Metoda oceniania jakości modelu  \n",
        "- Wyniki eksperymentalne + wykresy w razie potrzeby  \n",
        "- Podsumowanie, wnioski  \n",
        "- Komputerowy program i wynik eksperymentu  \n",
        "\n",
        "---\n",
        "\n",
        "## Punktacja\n",
        "\n",
        "- **Maksymalna liczba punktów:** 40 punktów  \n",
        "- **Program + Eksperyment:** 30 punktów  \n",
        "- **Raport:** 10 punktów"
      ]
    },
    {
      "cell_type": "markdown",
      "metadata": {
        "id": "eFhA214rSlPs"
      },
      "source": [
        "# Projekt z ADD – Temat 3\n",
        "**Ocena filmowa (max 3 osoby)**\n",
        "1. **Dane do analizy**: składają się z ocen (*ratings*) filmów (w skali od 1-5 gwiazd) oraz\n",
        "krótkich recenzji (*tagi*) napisanych przez widzów. Informacje te zostały zbierane przez\n",
        "portal **MovieLens** – portal do celu rekomendacji filmowej.\n",
        "  \n",
        "  Dane zawierają około100000 ratings i ponad 1000 tagów dla ponad 9000\n",
        "filmów. Dane zostały stworzone przez użytkowników w okresie 1995-2016.\n",
        "Użytkownicy są wybrani w sposób losowy. Każdy użytkownik ocenia co\n",
        "najmniej 20 filmów, i ma unikany identyfikator.\n",
        "\n",
        "2. **Zadanie**:\n",
        "  - **Przygotowanie danych do analizy**:\n",
        "     \n",
        "     Na podstawie **tagów i opisu** filmu tworzyć odpowiedni **zbiór atrybutów** i **zbiór\n",
        "rekordów** do analizy.\n",
        "  - **Przewidywanie ratings**:\n",
        "    \n",
        "      a) Używać **dowolnego klasyfikatora** (np. sieci neuronowe, drzewo\n",
        "decyzyjne, klasyfikator Bayesowski, zespół klasyfikatorów,...) do predykcji\n",
        "oceny nowego filmu.\n",
        "\n",
        "      b) Odkrywać **istotne cechy** do oceniania filmu.\n",
        "3. **Model uczenia**:\n",
        "    - Zbiór uczący: losowo 80% zbioru danych\n",
        "    - Zbiór testowy: pozostała część.\n",
        "4. **Zródło danych**:\n",
        "  - Udostępnione w **Datasets**.\n",
        "  - Więcej informacji: https://grouplens.org/datasets/movielens/latest/"
      ]
    },
    {
      "cell_type": "markdown",
      "metadata": {
        "id": "nFMBrJE0TZUm"
      },
      "source": [
        "\n",
        "\n",
        "---\n",
        "Opis:\n",
        "\n",
        "Dane z zestawu MovieLens zostały pobrane, rozpakowane i przetworzone w celu przygotowania ich do dalszej analizy.\n",
        "Informacje o filmach (tytuł, gatunki) zostały połączone z tagami nadawanymi przez użytkowników, które następnie\n",
        "przekształcono na wektory cech za pomocą metody TF-IDF. Powstały zbiór danych scalono do jednego pliku CSV,\n",
        "aby umożliwić łatwą eksplorację, wizualizację oraz budowę modeli uczenia maszynowego.\n"
      ]
    },
    {
      "cell_type": "markdown",
      "metadata": {
        "id": "jJkSWZeSVjja"
      },
      "source": []
    },
    {
      "cell_type": "markdown",
      "metadata": {
        "id": "iOO9AnwtVviN"
      },
      "source": [
        "# Autoryzacja w google drive"
      ]
    },
    {
      "cell_type": "code",
      "execution_count": null,
      "metadata": {
        "colab": {
          "base_uri": "https://localhost:8080/"
        },
        "id": "GD7FYZbeUK_Q",
        "outputId": "65cb0fe0-4ae3-4560-de20-06842ca1bea5"
      },
      "outputs": [
        {
          "output_type": "stream",
          "name": "stdout",
          "text": [
            "Drive already mounted at /content/drive; to attempt to forcibly remount, call drive.mount(\"/content/drive\", force_remount=True).\n"
          ]
        }
      ],
      "source": [
        "from pydrive.auth import GoogleAuth\n",
        "from pydrive.drive import GoogleDrive\n",
        "from google.colab import auth\n",
        "from oauth2client.client import GoogleCredentials\n",
        "\n",
        "auth.authenticate_user()\n",
        "gauth = GoogleAuth()\n",
        "gauth.credentials = GoogleCredentials.get_application_default()\n",
        "drive = GoogleDrive(gauth)\n",
        "\n",
        "from google.colab import drive\n",
        "drive.mount('/content/drive')"
      ]
    },
    {
      "cell_type": "markdown",
      "metadata": {
        "id": "zu7vV40EZuLA"
      },
      "source": [
        "#Wczytanie danych"
      ]
    },
    {
      "cell_type": "code",
      "execution_count": null,
      "metadata": {
        "id": "h4b4JygBZg_e"
      },
      "outputs": [],
      "source": [
        "import os\n",
        "import pandas as pd\n",
        "\n",
        "#DATA_DIR = \"/content/drive/My Drive/PJATK/ADD_Datasets/Movies\"\n",
        "DATA_DIR = \"/content/drive/My Drive/PJATK/ADD_Datasets/Movies/big\"\n",
        "\n",
        "movies = pd.read_csv(os.path.join(DATA_DIR, \"movies.csv\"))\n",
        "tags = pd.read_csv(os.path.join(DATA_DIR, \"tags.csv\"))\n",
        "ratings = pd.read_csv(os.path.join(DATA_DIR, \"ratings.csv\"))\n",
        "links = pd.read_csv(os.path.join(DATA_DIR, \"links.csv\"))"
      ]
    },
    {
      "cell_type": "markdown",
      "metadata": {
        "id": "-iqbeLvdaaCw"
      },
      "source": [
        "#Przetwarzanie gatunków"
      ]
    },
    {
      "cell_type": "code",
      "execution_count": null,
      "metadata": {
        "colab": {
          "base_uri": "https://localhost:8080/"
        },
        "id": "QUaEMuDZaYOw",
        "outputId": "dd37e0ca-4825-4d7d-f95b-c5839f55ba65"
      },
      "outputs": [
        {
          "output_type": "stream",
          "name": "stdout",
          "text": [
            "Gatunki przetworzone. Liczba kolumn gatunków: 20\n",
            "Liczba filmów: 86537\n",
            "Liczba użytkowników: 330975\n",
            "Liczba ocen: 33832162\n",
            "Liczba tagów: 2328315\n",
            "Liczba linków: 86537\n",
            "-------------------------------------------------------------------------------------------------------------\n",
            "   movieId                               title  (no genres listed)  Action  \\\n",
            "0        1                    Toy Story (1995)                   0       0   \n",
            "1        2                      Jumanji (1995)                   0       0   \n",
            "2        3             Grumpier Old Men (1995)                   0       0   \n",
            "3        4            Waiting to Exhale (1995)                   0       0   \n",
            "4        5  Father of the Bride Part II (1995)                   0       0   \n",
            "\n",
            "   Adventure  Animation  Children  Comedy  Crime  Documentary  ...  Film-Noir  \\\n",
            "0          1          1         1       1      0            0  ...          0   \n",
            "1          1          0         1       0      0            0  ...          0   \n",
            "2          0          0         0       1      0            0  ...          0   \n",
            "3          0          0         0       1      0            0  ...          0   \n",
            "4          0          0         0       1      0            0  ...          0   \n",
            "\n",
            "   Horror  IMAX  Musical  Mystery  Romance  Sci-Fi  Thriller  War  Western  \n",
            "0       0     0        0        0        0       0         0    0        0  \n",
            "1       0     0        0        0        0       0         0    0        0  \n",
            "2       0     0        0        0        1       0         0    0        0  \n",
            "3       0     0        0        0        1       0         0    0        0  \n",
            "4       0     0        0        0        0       0         0    0        0  \n",
            "\n",
            "[5 rows x 22 columns]\n"
          ]
        }
      ],
      "source": [
        "genres = movies[\"genres\"].str.get_dummies(sep=\"|\")\n",
        "movies = pd.concat([movies[[\"movieId\", \"title\"]], genres], axis=1)\n",
        "\n",
        "print(f\"Gatunki przetworzone. Liczba kolumn gatunków: {genres.shape[1]}\")\n",
        "print(f\"Liczba filmów: {movies.shape[0]}\")\n",
        "print(f\"Liczba użytkowników: {ratings['userId'].nunique()}\")\n",
        "print(f\"Liczba ocen: {ratings.shape[0]}\")\n",
        "print(f\"Liczba tagów: {tags.shape[0]}\")\n",
        "print(f\"Liczba linków: {links.shape[0]}\")\n",
        "print(\"-------------------------------------------------------------------------------------------------------------\")\n",
        "print(movies.head())"
      ]
    },
    {
      "cell_type": "markdown",
      "metadata": {
        "id": "_RrK3_l2byvX"
      },
      "source": [
        "# Przekształcenie TF IDF"
      ]
    },
    {
      "cell_type": "code",
      "source": [
        "from sklearn.feature_extraction.text import TfidfVectorizer\n",
        "\n",
        "tags[\"tag\"] = tags[\"tag\"].astype(str).fillna(\"\")\n",
        "\n",
        "tags_grouped = tags.groupby(\"movieId\")[\"tag\"].apply(lambda x: \" \".join(x)).reset_index()\n",
        "movies_tags = pd.merge(movies, tags_grouped, on=\"movieId\", how=\"left\")\n",
        "movies_tags[\"tag\"] = movies_tags[\"tag\"].fillna(\"\")\n",
        "\n",
        "tfidf = TfidfVectorizer(max_features=300, stop_words=\"english\")\n",
        "tag_features = tfidf.fit_transform(movies_tags[\"tag\"]).toarray()\n",
        "tag_df = pd.DataFrame(tag_features, columns=[f\"tag_{w}\" for w in tfidf.get_feature_names_out()])"
      ],
      "metadata": {
        "id": "k0vUPpZKL6IE"
      },
      "execution_count": null,
      "outputs": []
    },
    {
      "cell_type": "markdown",
      "metadata": {
        "id": "ofN8Googcv4s"
      },
      "source": [
        "# Łączenie danych"
      ]
    },
    {
      "cell_type": "code",
      "execution_count": null,
      "metadata": {
        "colab": {
          "base_uri": "https://localhost:8080/"
        },
        "id": "lYZ3bpC9cvN8",
        "outputId": "0363c1b9-9383-428e-e4d5-4c4fa1260e29"
      },
      "outputs": [
        {
          "output_type": "stream",
          "name": "stdout",
          "text": [
            "Połączono wszystkie dane. Wymiary końcowego DataFrame: (86537, 326)\n"
          ]
        }
      ],
      "source": [
        "# AVG ocen\n",
        "ratings_avg = ratings.groupby(\"movieId\")[\"rating\"].mean().reset_index()\n",
        "ratings_avg.rename(columns={\"rating\": \"avg_rating\"}, inplace=True)\n",
        "\n",
        "# Połączenie z links i ratings\n",
        "df = pd.concat([movies_tags.reset_index(drop=True), tag_df], axis=1)\n",
        "final_df = pd.merge(df, ratings_avg, on=\"movieId\", how=\"left\")\n",
        "final_df = pd.merge(final_df, links, on=\"movieId\", how=\"left\")\n",
        "\n",
        "print(f\"Połączono wszystkie dane. Wymiary końcowego DataFrame: {final_df.shape}\")"
      ]
    },
    {
      "cell_type": "markdown",
      "metadata": {
        "id": "iVUyWFKmdHpd"
      },
      "source": [
        "# Zapis do Google drive"
      ]
    },
    {
      "cell_type": "code",
      "execution_count": null,
      "metadata": {
        "colab": {
          "base_uri": "https://localhost:8080/"
        },
        "id": "2tSeq9rNdFU0",
        "outputId": "4fd573ed-d8de-4250-846b-2afc5819ace0"
      },
      "outputs": [
        {
          "output_type": "stream",
          "name": "stdout",
          "text": [
            "Dane zapisane do: /content/drive/My Drive/PJATK/ADD_Datasets/Movies/big/movies_final_dataset.csv\n"
          ]
        }
      ],
      "source": [
        "output_path = os.path.join(DATA_DIR, \"movies_final_dataset.csv\")\n",
        "final_df.to_csv(output_path, index=False)\n",
        "\n",
        "print(f\"Dane zapisane do: {output_path}\")"
      ]
    },
    {
      "cell_type": "markdown",
      "metadata": {
        "id": "g22kwKR4V46S"
      },
      "source": [
        "# Pobranie danych z Google drive do Data Frame"
      ]
    },
    {
      "cell_type": "code",
      "execution_count": null,
      "metadata": {
        "colab": {
          "base_uri": "https://localhost:8080/"
        },
        "id": "micpwnXdV5V4",
        "outputId": "31667f2c-d21a-42d0-99c3-654489de213d"
      },
      "outputs": [
        {
          "output_type": "stream",
          "name": "stdout",
          "text": [
            "(86537, 326)\n"
          ]
        }
      ],
      "source": [
        "import pandas as pd\n",
        "import seaborn as sns\n",
        "import matplotlib.pyplot as plt\n",
        "import plotly.express as px\n",
        "import numpy as np\n",
        "\n",
        "import warnings\n",
        "warnings.filterwarnings('ignore')\n",
        "\n",
        "#df = final_df\n",
        "df = pd.read_csv(output_path, sep=\",\")\n",
        "print(df.shape)"
      ]
    },
    {
      "cell_type": "markdown",
      "metadata": {
        "id": "ixUgXkRpWvjC"
      },
      "source": [
        "# Wstępna analiza\n",
        "SMALL = 9742 Rekordów i 325 Atrybutów\n",
        "\n",
        "FULL = 86537 Rekordów i 325 Atrybutów"
      ]
    },
    {
      "cell_type": "code",
      "execution_count": null,
      "metadata": {
        "colab": {
          "base_uri": "https://localhost:8080/"
        },
        "id": "JE9i0vUpW1oj",
        "outputId": "8c5ee079-5c1e-4bd0-d3dc-f3320b082901"
      },
      "outputs": [
        {
          "output_type": "stream",
          "name": "stdout",
          "text": [
            "<class 'pandas.core.frame.DataFrame'>\n",
            "RangeIndex: 86537 entries, 0 to 86536\n",
            "Data columns (total 326 columns):\n",
            " #    Column              Dtype  \n",
            "---   ------              -----  \n",
            " 0    movieId             int64  \n",
            " 1    title               object \n",
            " 2    (no genres listed)  int64  \n",
            " 3    Action              int64  \n",
            " 4    Adventure           int64  \n",
            " 5    Animation           int64  \n",
            " 6    Children            int64  \n",
            " 7    Comedy              int64  \n",
            " 8    Crime               int64  \n",
            " 9    Documentary         int64  \n",
            " 10   Drama               int64  \n",
            " 11   Fantasy             int64  \n",
            " 12   Film-Noir           int64  \n",
            " 13   Horror              int64  \n",
            " 14   IMAX                int64  \n",
            " 15   Musical             int64  \n",
            " 16   Mystery             int64  \n",
            " 17   Romance             int64  \n",
            " 18   Sci-Fi              int64  \n",
            " 19   Thriller            int64  \n",
            " 20   War                 int64  \n",
            " 21   Western             int64  \n",
            " 22   tag                 object \n",
            " 23   tag_250             float64\n",
            " 24   tag_abuse           float64\n",
            " 25   tag_acting          float64\n",
            " 26   tag_action          float64\n",
            " 27   tag_actor           float64\n",
            " 28   tag_adapted         float64\n",
            " 29   tag_adventure       float64\n",
            " 30   tag_age             float64\n",
            " 31   tag_alien           float64\n",
            " 32   tag_aliens          float64\n",
            " 33   tag_alternate       float64\n",
            " 34   tag_american        float64\n",
            " 35   tag_animal          float64\n",
            " 36   tag_animation       float64\n",
            " 37   tag_anime           float64\n",
            " 38   tag_anti            float64\n",
            " 39   tag_apocalypse      float64\n",
            " 40   tag_apocalyptic     float64\n",
            " 41   tag_appealing       float64\n",
            " 42   tag_artificial      float64\n",
            " 43   tag_arts            float64\n",
            " 44   tag_atmospheric     float64\n",
            " 45   tag_bad             float64\n",
            " 46   tag_bare            float64\n",
            " 47   tag_based           float64\n",
            " 48   tag_bd              float64\n",
            " 49   tag_beautiful       float64\n",
            " 50   tag_bechdel         float64\n",
            " 51   tag_best            float64\n",
            " 52   tag_biography       float64\n",
            " 53   tag_bittersweet     float64\n",
            " 54   tag_black           float64\n",
            " 55   tag_blood           float64\n",
            " 56   tag_body            float64\n",
            " 57   tag_book            float64\n",
            " 58   tag_boring          float64\n",
            " 59   tag_boy             float64\n",
            " 60   tag_british         float64\n",
            " 61   tag_brother         float64\n",
            " 62   tag_brothers        float64\n",
            " 63   tag_business        float64\n",
            " 64   tag_camera          float64\n",
            " 65   tag_car             float64\n",
            " 66   tag_cast            float64\n",
            " 67   tag_century         float64\n",
            " 68   tag_character       float64\n",
            " 69   tag_characters      float64\n",
            " 70   tag_chase           float64\n",
            " 71   tag_child           float64\n",
            " 72   tag_children        float64\n",
            " 73   tag_christian       float64\n",
            " 74   tag_christmas       float64\n",
            " 75   tag_christopher     float64\n",
            " 76   tag_cinematography  float64\n",
            " 77   tag_city            float64\n",
            " 78   tag_classic         float64\n",
            " 79   tag_clever          float64\n",
            " 80   tag_comedy          float64\n",
            " 81   tag_comic           float64\n",
            " 82   tag_coming          float64\n",
            " 83   tag_commentary      float64\n",
            " 84   tag_computer        float64\n",
            " 85   tag_conspiracy      float64\n",
            " 86   tag_corruption      float64\n",
            " 87   tag_creepy          float64\n",
            " 88   tag_crime           float64\n",
            " 89   tag_criterion       float64\n",
            " 90   tag_cult            float64\n",
            " 91   tag_cyberpunk       float64\n",
            " 92   tag_dark            float64\n",
            " 93   tag_daughter        float64\n",
            " 94   tag_david           float64\n",
            " 95   tag_dead            float64\n",
            " 96   tag_death           float64\n",
            " 97   tag_detective       float64\n",
            " 98   tag_dialogue        float64\n",
            " 99   tag_director        float64\n",
            " 100  tag_disney          float64\n",
            " 101  tag_disturbing      float64\n",
            " 102  tag_documentary     float64\n",
            " 103  tag_dog             float64\n",
            " 104  tag_drama           float64\n",
            " 105  tag_dreamlike       float64\n",
            " 106  tag_drug            float64\n",
            " 107  tag_drugs           float64\n",
            " 108  tag_dvd             float64\n",
            " 109  tag_dystopia        float64\n",
            " 110  tag_effects         float64\n",
            " 111  tag_emotional       float64\n",
            " 112  tag_ending          float64\n",
            " 113  tag_england         float64\n",
            " 114  tag_epic            float64\n",
            " 115  tag_escape          float64\n",
            " 116  tag_espionage       float64\n",
            " 117  tag_evil            float64\n",
            " 118  tag_face            float64\n",
            " 119  tag_fairy           float64\n",
            " 120  tag_family          float64\n",
            " 121  tag_fantasy         float64\n",
            " 122  tag_father          float64\n",
            " 123  tag_feel            float64\n",
            " 124  tag_female          float64\n",
            " 125  tag_fi              float64\n",
            " 126  tag_fiction         float64\n",
            " 127  tag_fight           float64\n",
            " 128  tag_film            float64\n",
            " 129  tag_france          float64\n",
            " 130  tag_french          float64\n",
            " 131  tag_friendship      float64\n",
            " 132  tag_frontal         float64\n",
            " 133  tag_funny           float64\n",
            " 134  tag_future          float64\n",
            " 135  tag_futuristic      float64\n",
            " 136  tag_game            float64\n",
            " 137  tag_gay             float64\n",
            " 138  tag_girl            float64\n",
            " 139  tag_good            float64\n",
            " 140  tag_gore            float64\n",
            " 141  tag_great           float64\n",
            " 142  tag_gun             float64\n",
            " 143  tag_hand            float64\n",
            " 144  tag_head            float64\n",
            " 145  tag_heist           float64\n",
            " 146  tag_hero            float64\n",
            " 147  tag_high            float64\n",
            " 148  tag_historical      float64\n",
            " 149  tag_history         float64\n",
            " 150  tag_horror          float64\n",
            " 151  tag_house           float64\n",
            " 152  tag_human           float64\n",
            " 153  tag_humor           float64\n",
            " 154  tag_husband         float64\n",
            " 155  tag_identity        float64\n",
            " 156  tag_ii              float64\n",
            " 157  tag_illness         float64\n",
            " 158  tag_imdb            float64\n",
            " 159  tag_independent     float64\n",
            " 160  tag_inspirational   float64\n",
            " 161  tag_intelligence    float64\n",
            " 162  tag_intelligent     float64\n",
            " 163  tag_intense         float64\n",
            " 164  tag_investigation   float64\n",
            " 165  tag_james           float64\n",
            " 166  tag_japan           float64\n",
            " 167  tag_john            float64\n",
            " 168  tag_kidnapping      float64\n",
            " 169  tag_killer          float64\n",
            " 170  tag_language        float64\n",
            " 171  tag_lead            float64\n",
            " 172  tag_lesbian         float64\n",
            " 173  tag_life            float64\n",
            " 174  tag_loneliness      float64\n",
            " 175  tag_long            float64\n",
            " 176  tag_loss            float64\n",
            " 177  tag_love            float64\n",
            " 178  tag_mafia           float64\n",
            " 179  tag_magic           float64\n",
            " 180  tag_male            float64\n",
            " 181  tag_man             float64\n",
            " 182  tag_marriage        float64\n",
            " 183  tag_martial         float64\n",
            " 184  tag_marvel          float64\n",
            " 185  tag_memory          float64\n",
            " 186  tag_mental          float64\n",
            " 187  tag_michael         float64\n",
            " 188  tag_military        float64\n",
            " 189  tag_mindfuck        float64\n",
            " 190  tag_monster         float64\n",
            " 191  tag_mother          float64\n",
            " 192  tag_movie           float64\n",
            " 193  tag_multiple        float64\n",
            " 194  tag_murder          float64\n",
            " 195  tag_music           float64\n",
            " 196  tag_musical         float64\n",
            " 197  tag_mystery         float64\n",
            " 198  tag_neo             float64\n",
            " 199  tag_netflix         float64\n",
            " 200  tag_new             float64\n",
            " 201  tag_noir            float64\n",
            " 202  tag_nominee         float64\n",
            " 203  tag_nonlinear       float64\n",
            " 204  tag_notable         float64\n",
            " 205  tag_novel           float64\n",
            " 206  tag_nudity          float64\n",
            " 207  tag_old             float64\n",
            " 208  tag_organized       float64\n",
            " 209  tag_original        float64\n",
            " 210  tag_oscar           float64\n",
            " 211  tag_overrated       float64\n",
            " 212  tag_parody          float64\n",
            " 213  tag_philosophical   float64\n",
            " 214  tag_philosophy      float64\n",
            " 215  tag_picture         float64\n",
            " 216  tag_pixar           float64\n",
            " 217  tag_plot            float64\n",
            " 218  tag_police          float64\n",
            " 219  tag_political       float64\n",
            " 220  tag_politics        float64\n",
            " 221  tag_post            float64\n",
            " 222  tag_power           float64\n",
            " 223  tag_predictable     float64\n",
            " 224  tag_prison          float64\n",
            " 225  tag_protagonist     float64\n",
            " 226  tag_provoking       float64\n",
            " 227  tag_psychological   float64\n",
            " 228  tag_psychology      float64\n",
            " 229  tag_quentin         float64\n",
            " 230  tag_quirky          float64\n",
            " 231  tag_racism          float64\n",
            " 232  tag_rape            float64\n",
            " 233  tag_realistic       float64\n",
            " 234  tag_reality         float64\n",
            " 235  tag_reference       float64\n",
            " 236  tag_relationship    float64\n",
            " 237  tag_relationships   float64\n",
            " 238  tag_religion        float64\n",
            " 239  tag_remake          float64\n",
            " 240  tag_revenge         float64\n",
            " 241  tag_road            float64\n",
            " 242  tag_robert          float64\n",
            " 243  tag_robots          float64\n",
            " 244  tag_romance         float64\n",
            " 245  tag_romantic        float64\n",
            " 246  tag_satire          float64\n",
            " 247  tag_scene           float64\n",
            " 248  tag_school          float64\n",
            " 249  tag_sci             float64\n",
            " 250  tag_science         float64\n",
            " 251  tag_script          float64\n",
            " 252  tag_secret          float64\n",
            " 253  tag_seen            float64\n",
            " 254  tag_self            float64\n",
            " 255  tag_sequel          float64\n",
            " 256  tag_serial          float64\n",
            " 257  tag_sex             float64\n",
            " 258  tag_sexual          float64\n",
            " 259  tag_short           float64\n",
            " 260  tag_shot            float64\n",
            " 261  tag_slow            float64\n",
            " 262  tag_small           float64\n",
            " 263  tag_social          float64\n",
            " 264  tag_son             float64\n",
            " 265  tag_soundtrack      float64\n",
            " 266  tag_space           float64\n",
            " 267  tag_special         float64\n",
            " 268  tag_spy             float64\n",
            " 269  tag_stabbed         float64\n",
            " 270  tag_star            float64\n",
            " 271  tag_story           float64\n",
            " 272  tag_storylines      float64\n",
            " 273  tag_strong          float64\n",
            " 274  tag_stunning        float64\n",
            " 275  tag_stupid          float64\n",
            " 276  tag_stylized        float64\n",
            " 277  tag_suicide         float64\n",
            " 278  tag_superhero       float64\n",
            " 279  tag_supernatural    float64\n",
            " 280  tag_surreal         float64\n",
            " 281  tag_surrealism      float64\n",
            " 282  tag_survival        float64\n",
            " 283  tag_suspense        float64\n",
            " 284  tag_sword           float64\n",
            " 285  tag_talking         float64\n",
            " 286  tag_tarantino       float64\n",
            " 287  tag_teen            float64\n",
            " 288  tag_teenage         float64\n",
            " 289  tag_tense           float64\n",
            " 290  tag_test            float64\n",
            " 291  tag_thought         float64\n",
            " 292  tag_thriller        float64\n",
            " 293  tag_time            float64\n",
            " 294  tag_title           float64\n",
            " 295  tag_tom             float64\n",
            " 296  tag_topless         float64\n",
            " 297  tag_touching        float64\n",
            " 298  tag_town            float64\n",
            " 299  tag_train           float64\n",
            " 300  tag_travel          float64\n",
            " 301  tag_trip            float64\n",
            " 302  tag_true            float64\n",
            " 303  tag_tv              float64\n",
            " 304  tag_twist           float64\n",
            " 305  tag_video           float64\n",
            " 306  tag_violence        float64\n",
            " 307  tag_violent         float64\n",
            " 308  tag_visually        float64\n",
            " 309  tag_war             float64\n",
            " 310  tag_wears           float64\n",
            " 311  tag_weird           float64\n",
            " 312  tag_western         float64\n",
            " 313  tag_white           float64\n",
            " 314  tag_wife            float64\n",
            " 315  tag_witty           float64\n",
            " 316  tag_woman           float64\n",
            " 317  tag_word            float64\n",
            " 318  tag_world           float64\n",
            " 319  tag_writer          float64\n",
            " 320  tag_year            float64\n",
            " 321  tag_york            float64\n",
            " 322  tag_zombies         float64\n",
            " 323  avg_rating          float64\n",
            " 324  imdbId              int64  \n",
            " 325  tmdbId              float64\n",
            "dtypes: float64(302), int64(22), object(2)\n",
            "memory usage: 215.2+ MB\n"
          ]
        }
      ],
      "source": [
        "df.info(verbose=True)"
      ]
    },
    {
      "cell_type": "code",
      "execution_count": null,
      "metadata": {
        "colab": {
          "base_uri": "https://localhost:8080/",
          "height": 446
        },
        "id": "SvBsIy4HW9AT",
        "outputId": "c37b9462-1683-45da-a0e0-4bf09b3332eb"
      },
      "outputs": [
        {
          "output_type": "execute_result",
          "data": {
            "text/plain": [
              "   movieId                               title  (no genres listed)  Action  \\\n",
              "0        1                    Toy Story (1995)                   0       0   \n",
              "1        2                      Jumanji (1995)                   0       0   \n",
              "2        3             Grumpier Old Men (1995)                   0       0   \n",
              "3        4            Waiting to Exhale (1995)                   0       0   \n",
              "4        5  Father of the Bride Part II (1995)                   0       0   \n",
              "\n",
              "   Adventure  Animation  Children  Comedy  Crime  Documentary  ...  tag_woman  \\\n",
              "0          1          1         1       1      0            0  ...   0.000000   \n",
              "1          1          0         1       0      0            0  ...   0.023254   \n",
              "2          0          0         0       1      0            0  ...   0.000000   \n",
              "3          0          0         0       1      0            0  ...   0.000000   \n",
              "4          0          0         0       1      0            0  ...   0.000000   \n",
              "\n",
              "   tag_word  tag_world  tag_writer  tag_year  tag_york  tag_zombies  \\\n",
              "0  0.002772        0.0         0.0       0.0       0.0          0.0   \n",
              "1  0.010511        0.0         0.0       0.0       0.0          0.0   \n",
              "2  0.000000        0.0         0.0       0.0       0.0          0.0   \n",
              "3  0.000000        0.0         0.0       0.0       0.0          0.0   \n",
              "4  0.000000        0.0         0.0       0.0       0.0          0.0   \n",
              "\n",
              "   avg_rating  imdbId   tmdbId  \n",
              "0    3.893508  114709    862.0  \n",
              "1    3.278179  113497   8844.0  \n",
              "2    3.171271  113228  15602.0  \n",
              "3    2.868395  114885  31357.0  \n",
              "4    3.076957  113041  11862.0  \n",
              "\n",
              "[5 rows x 326 columns]"
            ],
            "text/html": [
              "\n",
              "  <div id=\"df-a506c93a-3c49-495c-be2c-eed2666ca1ad\" class=\"colab-df-container\">\n",
              "    <div>\n",
              "<style scoped>\n",
              "    .dataframe tbody tr th:only-of-type {\n",
              "        vertical-align: middle;\n",
              "    }\n",
              "\n",
              "    .dataframe tbody tr th {\n",
              "        vertical-align: top;\n",
              "    }\n",
              "\n",
              "    .dataframe thead th {\n",
              "        text-align: right;\n",
              "    }\n",
              "</style>\n",
              "<table border=\"1\" class=\"dataframe\">\n",
              "  <thead>\n",
              "    <tr style=\"text-align: right;\">\n",
              "      <th></th>\n",
              "      <th>movieId</th>\n",
              "      <th>title</th>\n",
              "      <th>(no genres listed)</th>\n",
              "      <th>Action</th>\n",
              "      <th>Adventure</th>\n",
              "      <th>Animation</th>\n",
              "      <th>Children</th>\n",
              "      <th>Comedy</th>\n",
              "      <th>Crime</th>\n",
              "      <th>Documentary</th>\n",
              "      <th>...</th>\n",
              "      <th>tag_woman</th>\n",
              "      <th>tag_word</th>\n",
              "      <th>tag_world</th>\n",
              "      <th>tag_writer</th>\n",
              "      <th>tag_year</th>\n",
              "      <th>tag_york</th>\n",
              "      <th>tag_zombies</th>\n",
              "      <th>avg_rating</th>\n",
              "      <th>imdbId</th>\n",
              "      <th>tmdbId</th>\n",
              "    </tr>\n",
              "  </thead>\n",
              "  <tbody>\n",
              "    <tr>\n",
              "      <th>0</th>\n",
              "      <td>1</td>\n",
              "      <td>Toy Story (1995)</td>\n",
              "      <td>0</td>\n",
              "      <td>0</td>\n",
              "      <td>1</td>\n",
              "      <td>1</td>\n",
              "      <td>1</td>\n",
              "      <td>1</td>\n",
              "      <td>0</td>\n",
              "      <td>0</td>\n",
              "      <td>...</td>\n",
              "      <td>0.000000</td>\n",
              "      <td>0.002772</td>\n",
              "      <td>0.0</td>\n",
              "      <td>0.0</td>\n",
              "      <td>0.0</td>\n",
              "      <td>0.0</td>\n",
              "      <td>0.0</td>\n",
              "      <td>3.893508</td>\n",
              "      <td>114709</td>\n",
              "      <td>862.0</td>\n",
              "    </tr>\n",
              "    <tr>\n",
              "      <th>1</th>\n",
              "      <td>2</td>\n",
              "      <td>Jumanji (1995)</td>\n",
              "      <td>0</td>\n",
              "      <td>0</td>\n",
              "      <td>1</td>\n",
              "      <td>0</td>\n",
              "      <td>1</td>\n",
              "      <td>0</td>\n",
              "      <td>0</td>\n",
              "      <td>0</td>\n",
              "      <td>...</td>\n",
              "      <td>0.023254</td>\n",
              "      <td>0.010511</td>\n",
              "      <td>0.0</td>\n",
              "      <td>0.0</td>\n",
              "      <td>0.0</td>\n",
              "      <td>0.0</td>\n",
              "      <td>0.0</td>\n",
              "      <td>3.278179</td>\n",
              "      <td>113497</td>\n",
              "      <td>8844.0</td>\n",
              "    </tr>\n",
              "    <tr>\n",
              "      <th>2</th>\n",
              "      <td>3</td>\n",
              "      <td>Grumpier Old Men (1995)</td>\n",
              "      <td>0</td>\n",
              "      <td>0</td>\n",
              "      <td>0</td>\n",
              "      <td>0</td>\n",
              "      <td>0</td>\n",
              "      <td>1</td>\n",
              "      <td>0</td>\n",
              "      <td>0</td>\n",
              "      <td>...</td>\n",
              "      <td>0.000000</td>\n",
              "      <td>0.000000</td>\n",
              "      <td>0.0</td>\n",
              "      <td>0.0</td>\n",
              "      <td>0.0</td>\n",
              "      <td>0.0</td>\n",
              "      <td>0.0</td>\n",
              "      <td>3.171271</td>\n",
              "      <td>113228</td>\n",
              "      <td>15602.0</td>\n",
              "    </tr>\n",
              "    <tr>\n",
              "      <th>3</th>\n",
              "      <td>4</td>\n",
              "      <td>Waiting to Exhale (1995)</td>\n",
              "      <td>0</td>\n",
              "      <td>0</td>\n",
              "      <td>0</td>\n",
              "      <td>0</td>\n",
              "      <td>0</td>\n",
              "      <td>1</td>\n",
              "      <td>0</td>\n",
              "      <td>0</td>\n",
              "      <td>...</td>\n",
              "      <td>0.000000</td>\n",
              "      <td>0.000000</td>\n",
              "      <td>0.0</td>\n",
              "      <td>0.0</td>\n",
              "      <td>0.0</td>\n",
              "      <td>0.0</td>\n",
              "      <td>0.0</td>\n",
              "      <td>2.868395</td>\n",
              "      <td>114885</td>\n",
              "      <td>31357.0</td>\n",
              "    </tr>\n",
              "    <tr>\n",
              "      <th>4</th>\n",
              "      <td>5</td>\n",
              "      <td>Father of the Bride Part II (1995)</td>\n",
              "      <td>0</td>\n",
              "      <td>0</td>\n",
              "      <td>0</td>\n",
              "      <td>0</td>\n",
              "      <td>0</td>\n",
              "      <td>1</td>\n",
              "      <td>0</td>\n",
              "      <td>0</td>\n",
              "      <td>...</td>\n",
              "      <td>0.000000</td>\n",
              "      <td>0.000000</td>\n",
              "      <td>0.0</td>\n",
              "      <td>0.0</td>\n",
              "      <td>0.0</td>\n",
              "      <td>0.0</td>\n",
              "      <td>0.0</td>\n",
              "      <td>3.076957</td>\n",
              "      <td>113041</td>\n",
              "      <td>11862.0</td>\n",
              "    </tr>\n",
              "  </tbody>\n",
              "</table>\n",
              "<p>5 rows × 326 columns</p>\n",
              "</div>\n",
              "    <div class=\"colab-df-buttons\">\n",
              "\n",
              "  <div class=\"colab-df-container\">\n",
              "    <button class=\"colab-df-convert\" onclick=\"convertToInteractive('df-a506c93a-3c49-495c-be2c-eed2666ca1ad')\"\n",
              "            title=\"Convert this dataframe to an interactive table.\"\n",
              "            style=\"display:none;\">\n",
              "\n",
              "  <svg xmlns=\"http://www.w3.org/2000/svg\" height=\"24px\" viewBox=\"0 -960 960 960\">\n",
              "    <path d=\"M120-120v-720h720v720H120Zm60-500h600v-160H180v160Zm220 220h160v-160H400v160Zm0 220h160v-160H400v160ZM180-400h160v-160H180v160Zm440 0h160v-160H620v160ZM180-180h160v-160H180v160Zm440 0h160v-160H620v160Z\"/>\n",
              "  </svg>\n",
              "    </button>\n",
              "\n",
              "  <style>\n",
              "    .colab-df-container {\n",
              "      display:flex;\n",
              "      gap: 12px;\n",
              "    }\n",
              "\n",
              "    .colab-df-convert {\n",
              "      background-color: #E8F0FE;\n",
              "      border: none;\n",
              "      border-radius: 50%;\n",
              "      cursor: pointer;\n",
              "      display: none;\n",
              "      fill: #1967D2;\n",
              "      height: 32px;\n",
              "      padding: 0 0 0 0;\n",
              "      width: 32px;\n",
              "    }\n",
              "\n",
              "    .colab-df-convert:hover {\n",
              "      background-color: #E2EBFA;\n",
              "      box-shadow: 0px 1px 2px rgba(60, 64, 67, 0.3), 0px 1px 3px 1px rgba(60, 64, 67, 0.15);\n",
              "      fill: #174EA6;\n",
              "    }\n",
              "\n",
              "    .colab-df-buttons div {\n",
              "      margin-bottom: 4px;\n",
              "    }\n",
              "\n",
              "    [theme=dark] .colab-df-convert {\n",
              "      background-color: #3B4455;\n",
              "      fill: #D2E3FC;\n",
              "    }\n",
              "\n",
              "    [theme=dark] .colab-df-convert:hover {\n",
              "      background-color: #434B5C;\n",
              "      box-shadow: 0px 1px 3px 1px rgba(0, 0, 0, 0.15);\n",
              "      filter: drop-shadow(0px 1px 2px rgba(0, 0, 0, 0.3));\n",
              "      fill: #FFFFFF;\n",
              "    }\n",
              "  </style>\n",
              "\n",
              "    <script>\n",
              "      const buttonEl =\n",
              "        document.querySelector('#df-a506c93a-3c49-495c-be2c-eed2666ca1ad button.colab-df-convert');\n",
              "      buttonEl.style.display =\n",
              "        google.colab.kernel.accessAllowed ? 'block' : 'none';\n",
              "\n",
              "      async function convertToInteractive(key) {\n",
              "        const element = document.querySelector('#df-a506c93a-3c49-495c-be2c-eed2666ca1ad');\n",
              "        const dataTable =\n",
              "          await google.colab.kernel.invokeFunction('convertToInteractive',\n",
              "                                                    [key], {});\n",
              "        if (!dataTable) return;\n",
              "\n",
              "        const docLinkHtml = 'Like what you see? Visit the ' +\n",
              "          '<a target=\"_blank\" href=https://colab.research.google.com/notebooks/data_table.ipynb>data table notebook</a>'\n",
              "          + ' to learn more about interactive tables.';\n",
              "        element.innerHTML = '';\n",
              "        dataTable['output_type'] = 'display_data';\n",
              "        await google.colab.output.renderOutput(dataTable, element);\n",
              "        const docLink = document.createElement('div');\n",
              "        docLink.innerHTML = docLinkHtml;\n",
              "        element.appendChild(docLink);\n",
              "      }\n",
              "    </script>\n",
              "  </div>\n",
              "\n",
              "\n",
              "    <div id=\"df-b8dbd65b-249f-4669-8be0-2a0e1f33ccf9\">\n",
              "      <button class=\"colab-df-quickchart\" onclick=\"quickchart('df-b8dbd65b-249f-4669-8be0-2a0e1f33ccf9')\"\n",
              "                title=\"Suggest charts\"\n",
              "                style=\"display:none;\">\n",
              "\n",
              "<svg xmlns=\"http://www.w3.org/2000/svg\" height=\"24px\"viewBox=\"0 0 24 24\"\n",
              "     width=\"24px\">\n",
              "    <g>\n",
              "        <path d=\"M19 3H5c-1.1 0-2 .9-2 2v14c0 1.1.9 2 2 2h14c1.1 0 2-.9 2-2V5c0-1.1-.9-2-2-2zM9 17H7v-7h2v7zm4 0h-2V7h2v10zm4 0h-2v-4h2v4z\"/>\n",
              "    </g>\n",
              "</svg>\n",
              "      </button>\n",
              "\n",
              "<style>\n",
              "  .colab-df-quickchart {\n",
              "      --bg-color: #E8F0FE;\n",
              "      --fill-color: #1967D2;\n",
              "      --hover-bg-color: #E2EBFA;\n",
              "      --hover-fill-color: #174EA6;\n",
              "      --disabled-fill-color: #AAA;\n",
              "      --disabled-bg-color: #DDD;\n",
              "  }\n",
              "\n",
              "  [theme=dark] .colab-df-quickchart {\n",
              "      --bg-color: #3B4455;\n",
              "      --fill-color: #D2E3FC;\n",
              "      --hover-bg-color: #434B5C;\n",
              "      --hover-fill-color: #FFFFFF;\n",
              "      --disabled-bg-color: #3B4455;\n",
              "      --disabled-fill-color: #666;\n",
              "  }\n",
              "\n",
              "  .colab-df-quickchart {\n",
              "    background-color: var(--bg-color);\n",
              "    border: none;\n",
              "    border-radius: 50%;\n",
              "    cursor: pointer;\n",
              "    display: none;\n",
              "    fill: var(--fill-color);\n",
              "    height: 32px;\n",
              "    padding: 0;\n",
              "    width: 32px;\n",
              "  }\n",
              "\n",
              "  .colab-df-quickchart:hover {\n",
              "    background-color: var(--hover-bg-color);\n",
              "    box-shadow: 0 1px 2px rgba(60, 64, 67, 0.3), 0 1px 3px 1px rgba(60, 64, 67, 0.15);\n",
              "    fill: var(--button-hover-fill-color);\n",
              "  }\n",
              "\n",
              "  .colab-df-quickchart-complete:disabled,\n",
              "  .colab-df-quickchart-complete:disabled:hover {\n",
              "    background-color: var(--disabled-bg-color);\n",
              "    fill: var(--disabled-fill-color);\n",
              "    box-shadow: none;\n",
              "  }\n",
              "\n",
              "  .colab-df-spinner {\n",
              "    border: 2px solid var(--fill-color);\n",
              "    border-color: transparent;\n",
              "    border-bottom-color: var(--fill-color);\n",
              "    animation:\n",
              "      spin 1s steps(1) infinite;\n",
              "  }\n",
              "\n",
              "  @keyframes spin {\n",
              "    0% {\n",
              "      border-color: transparent;\n",
              "      border-bottom-color: var(--fill-color);\n",
              "      border-left-color: var(--fill-color);\n",
              "    }\n",
              "    20% {\n",
              "      border-color: transparent;\n",
              "      border-left-color: var(--fill-color);\n",
              "      border-top-color: var(--fill-color);\n",
              "    }\n",
              "    30% {\n",
              "      border-color: transparent;\n",
              "      border-left-color: var(--fill-color);\n",
              "      border-top-color: var(--fill-color);\n",
              "      border-right-color: var(--fill-color);\n",
              "    }\n",
              "    40% {\n",
              "      border-color: transparent;\n",
              "      border-right-color: var(--fill-color);\n",
              "      border-top-color: var(--fill-color);\n",
              "    }\n",
              "    60% {\n",
              "      border-color: transparent;\n",
              "      border-right-color: var(--fill-color);\n",
              "    }\n",
              "    80% {\n",
              "      border-color: transparent;\n",
              "      border-right-color: var(--fill-color);\n",
              "      border-bottom-color: var(--fill-color);\n",
              "    }\n",
              "    90% {\n",
              "      border-color: transparent;\n",
              "      border-bottom-color: var(--fill-color);\n",
              "    }\n",
              "  }\n",
              "</style>\n",
              "\n",
              "      <script>\n",
              "        async function quickchart(key) {\n",
              "          const quickchartButtonEl =\n",
              "            document.querySelector('#' + key + ' button');\n",
              "          quickchartButtonEl.disabled = true;  // To prevent multiple clicks.\n",
              "          quickchartButtonEl.classList.add('colab-df-spinner');\n",
              "          try {\n",
              "            const charts = await google.colab.kernel.invokeFunction(\n",
              "                'suggestCharts', [key], {});\n",
              "          } catch (error) {\n",
              "            console.error('Error during call to suggestCharts:', error);\n",
              "          }\n",
              "          quickchartButtonEl.classList.remove('colab-df-spinner');\n",
              "          quickchartButtonEl.classList.add('colab-df-quickchart-complete');\n",
              "        }\n",
              "        (() => {\n",
              "          let quickchartButtonEl =\n",
              "            document.querySelector('#df-b8dbd65b-249f-4669-8be0-2a0e1f33ccf9 button');\n",
              "          quickchartButtonEl.style.display =\n",
              "            google.colab.kernel.accessAllowed ? 'block' : 'none';\n",
              "        })();\n",
              "      </script>\n",
              "    </div>\n",
              "\n",
              "    </div>\n",
              "  </div>\n"
            ],
            "application/vnd.google.colaboratory.intrinsic+json": {
              "type": "dataframe",
              "variable_name": "df"
            }
          },
          "metadata": {},
          "execution_count": 316
        }
      ],
      "source": [
        "df.head()"
      ]
    },
    {
      "cell_type": "markdown",
      "metadata": {
        "id": "AhG3XJ9XgVa2"
      },
      "source": [
        "#Wartosci null"
      ]
    },
    {
      "cell_type": "code",
      "execution_count": null,
      "metadata": {
        "colab": {
          "base_uri": "https://localhost:8080/"
        },
        "id": "9Fk-xD-kfcO7",
        "outputId": "866dd51f-788f-4cbb-8a0b-a22c41e9571a"
      },
      "outputs": [
        {
          "output_type": "stream",
          "name": "stdout",
          "text": [
            "\n",
            "Brakujące wartości w zbiorze danych:\n",
            "movieId                  0\n",
            "title                    0\n",
            "(no genres listed)       0\n",
            "Action                   0\n",
            "Adventure                0\n",
            "                      ... \n",
            "tag_york                 0\n",
            "tag_zombies              0\n",
            "avg_rating            3298\n",
            "imdbId                   0\n",
            "tmdbId                 126\n",
            "Length: 326, dtype: int64\n",
            "\n",
            "Całość brakujących danych w zbiorze:\n",
            "36509\n"
          ]
        }
      ],
      "source": [
        "print(\"\\nBrakujące wartości w zbiorze danych:\")\n",
        "print(df.isnull().sum())\n",
        "print(\"\\nCałość brakujących danych w zbiorze:\")\n",
        "print(df.isnull().sum().sum())"
      ]
    },
    {
      "cell_type": "code",
      "execution_count": null,
      "metadata": {
        "colab": {
          "base_uri": "https://localhost:8080/"
        },
        "id": "6sn6OSmLgZ2v",
        "outputId": "41469be2-5719-4d65-c5de-14b6ed3d7890"
      },
      "outputs": [
        {
          "output_type": "stream",
          "name": "stdout",
          "text": [
            "0\n"
          ]
        }
      ],
      "source": [
        "df = df.dropna()\n",
        "print(df.isnull().sum().sum())"
      ]
    },
    {
      "cell_type": "markdown",
      "metadata": {
        "id": "DuOgqppngyl1"
      },
      "source": [
        "# Statystyki"
      ]
    },
    {
      "cell_type": "code",
      "execution_count": null,
      "metadata": {
        "colab": {
          "base_uri": "https://localhost:8080/",
          "height": 488
        },
        "id": "KpLS_aOBg5Ut",
        "outputId": "17c87e66-4fe0-4681-fb2e-a0a2cf33ec78"
      },
      "outputs": [
        {
          "output_type": "display_data",
          "data": {
            "text/plain": [
              "<Figure size 800x500 with 1 Axes>"
            ],
            "image/png": "[encoded data removed]"
          },
          "metadata": {}
        }
      ],
      "source": [
        "import matplotlib.pyplot as plt\n",
        "import seaborn as sns\n",
        "\n",
        "plt.figure(figsize=(8, 5))\n",
        "sns.histplot(df['avg_rating'], bins=10, kde=True, color=\"skyblue\")\n",
        "plt.title(\"Histogram rozkładu średnich ocen filmów\")\n",
        "plt.xlabel(\"Średnia ocena\")\n",
        "plt.ylabel(\"Liczba filmów\")\n",
        "plt.grid(True)\n",
        "plt.show()"
      ]
    },
    {
      "cell_type": "code",
      "execution_count": null,
      "metadata": {
        "colab": {
          "base_uri": "https://localhost:8080/",
          "height": 488
        },
        "id": "_-OrZFieiTcA",
        "outputId": "338eed2b-0906-4e55-a84f-7ab7ccb46163"
      },
      "outputs": [
        {
          "output_type": "display_data",
          "data": {
            "text/plain": [
              "<Figure size 800x500 with 1 Axes>"
            ],
            "image/png": "[encoded data removed]"
          },
          "metadata": {}
        }
      ],
      "source": [
        "genre_cols = [\n",
        "    \"(no genres listed)\", \"Action\", \"Adventure\", \"Animation\", \"Children\",\n",
        "    \"Comedy\", \"Crime\", \"Documentary\", \"Drama\", \"Fantasy\", \"Film-Noir\",\n",
        "    \"Horror\", \"IMAX\", \"Musical\", \"Mystery\", \"Romance\", \"Sci-Fi\", \"Thriller\",\n",
        "    \"War\", \"Western\"\n",
        "]\n",
        "\n",
        "df[\"num_genres\"] = df[genre_cols].sum(axis=1)\n",
        "\n",
        "\n",
        "plt.figure(figsize=(8, 5))\n",
        "sns.histplot(df[\"num_genres\"], bins=range(1, df[\"num_genres\"].max()+2), discrete=True, color=\"mediumseagreen\")\n",
        "plt.title(\"Liczba filmów względem liczby przypisanych gatunków\")\n",
        "plt.xlabel(\"Liczba gatunków\")\n",
        "plt.ylabel(\"Liczba filmów\")\n",
        "plt.grid(True)\n",
        "plt.show()"
      ]
    },
    {
      "cell_type": "markdown",
      "metadata": {
        "id": "8AA0438RjCm7"
      },
      "source": [
        "Korelacja między genre i avg rating"
      ]
    },
    {
      "cell_type": "code",
      "execution_count": null,
      "metadata": {
        "colab": {
          "base_uri": "https://localhost:8080/",
          "height": 699
        },
        "id": "6csPIcTWjDNz",
        "outputId": "757a042d-3083-472a-b7f3-ba0a42eb5843"
      },
      "outputs": [
        {
          "output_type": "display_data",
          "data": {
            "text/plain": [
              "<Figure size 1200x800 with 2 Axes>"
            ],
            "image/png": "[encoded data removed]"
          },
          "metadata": {}
        }
      ],
      "source": [
        "corr = df[genre_cols + [\"avg_rating\"]].corr()\n",
        "\n",
        "plt.figure(figsize=(12, 8))\n",
        "sns.heatmap(\n",
        "    corr[[\"avg_rating\"]].sort_values(by=\"avg_rating\", ascending=False),\n",
        "    annot=True,\n",
        "    cmap=\"coolwarm\",\n",
        "    linewidths=0.5\n",
        ")\n",
        "plt.title(\"Korelacja między genre i avg rating\")\n",
        "plt.show()"
      ]
    },
    {
      "cell_type": "code",
      "execution_count": null,
      "metadata": {
        "colab": {
          "base_uri": "https://localhost:8080/"
        },
        "id": "pXCBVSfAozkk",
        "outputId": "173c33b1-2815-4b1c-f55e-de3b4cd32a22"
      },
      "outputs": [
        {
          "output_type": "stream",
          "name": "stdout",
          "text": [
            "Korelacja gatunków z oceną filmu:\n",
            "Documentary           0.166\n",
            "Drama                 0.149\n",
            "War                   0.049\n",
            "Romance               0.042\n",
            "Film-Noir             0.032\n",
            "Musical               0.026\n",
            "Animation             0.024\n",
            "IMAX                  0.016\n",
            "Crime                 0.015\n",
            "(no genres listed)   -0.007\n",
            "Mystery              -0.015\n",
            "Fantasy              -0.021\n",
            "Western              -0.025\n",
            "Adventure            -0.026\n",
            "Comedy               -0.027\n",
            "Children             -0.035\n",
            "Thriller             -0.081\n",
            "Action               -0.086\n",
            "Sci-Fi               -0.128\n",
            "Horror               -0.224\n"
          ]
        }
      ],
      "source": [
        "corr_matrix = df[genre_cols + [\"avg_rating\"]].corr()\n",
        "genre_corr = corr_matrix[\"avg_rating\"].drop(\"avg_rating\")\n",
        "genre_corr_sorted = genre_corr.sort_values(ascending=False)\n",
        "\n",
        "\n",
        "print(\"Korelacja gatunków z oceną filmu:\")\n",
        "print(genre_corr_sorted.to_string(float_format=\"%.3f\"))"
      ]
    },
    {
      "cell_type": "code",
      "source": [
        "genre_counts = df[genre_cols].sum().sort_values(ascending=False)\n",
        "plt.figure(figsize=(12,4))\n",
        "genre_counts.plot(kind='bar')\n",
        "plt.title('Liczba filmów w danym gatunku')\n",
        "plt.ylabel('Liczba filmów')\n",
        "plt.xlabel('Gatunek')\n",
        "plt.show()"
      ],
      "metadata": {
        "colab": {
          "base_uri": "https://localhost:8080/",
          "height": 518
        },
        "id": "nTPNB0a5mHv4",
        "outputId": "021790de-8074-4854-f4ca-0d34764de00a"
      },
      "execution_count": null,
      "outputs": [
        {
          "output_type": "display_data",
          "data": {
            "text/plain": [
              "<Figure size 1200x400 with 1 Axes>"
            ],
            "image/png": "[encoded data removed]"
          },
          "metadata": {}
        }
      ]
    },
    {
      "cell_type": "code",
      "source": [
        "from collections import Counter\n",
        "\n",
        "all_tags = df['tag'].dropna().str.cat(sep=' ').split()\n",
        "\n",
        "tag_counts = Counter(all_tags)\n",
        "common_tags = tag_counts.most_common(20)\n",
        "print(\"Top 20 najpopularniejszych tagów:\", common_tags)"
      ],
      "metadata": {
        "colab": {
          "base_uri": "https://localhost:8080/"
        },
        "id": "rNxGnk47m1Zq",
        "outputId": "5407a15b-f168-40be-e5df-6ffb7b0decdf"
      },
      "execution_count": null,
      "outputs": [
        {
          "output_type": "stream",
          "name": "stdout",
          "text": [
            "Top 20 najpopularniejszych tagów: [('a', 36273), ('comedy', 30647), ('on', 28429), ('of', 24772), ('based', 21274), ('the', 20880), ('to', 20419), ('ending', 19574), ('in', 19535), ('dark', 17783), ('relationship', 17107), ('great', 16243), ('film', 15865), ('sci-fi', 15737), ('female', 14838), ('story', 14490), ('action', 14367), ('book', 14342), ('twist', 12417), ('woman', 12306)]\n"
          ]
        }
      ]
    },
    {
      "cell_type": "markdown",
      "source": [
        "Stop wordy mamy już skasowane"
      ],
      "metadata": {
        "id": "jPgtw_n3niN6"
      }
    },
    {
      "cell_type": "markdown",
      "metadata": {
        "id": "mjZdm2UNqytb"
      },
      "source": [
        "#Przygotowanie danych do modelu"
      ]
    },
    {
      "cell_type": "markdown",
      "metadata": {
        "id": "UPTNRS0qybvW"
      },
      "source": [
        "Dodanie rating_count i year. Mogą potencjalnie być ważne"
      ]
    },
    {
      "cell_type": "code",
      "execution_count": null,
      "metadata": {
        "id": "LGPj594bzXER"
      },
      "outputs": [],
      "source": [
        "df = df.drop(columns=[\"rating_count\"], errors=\"ignore\")"
      ]
    },
    {
      "cell_type": "code",
      "execution_count": null,
      "metadata": {
        "id": "dCDmiCohycD9"
      },
      "outputs": [],
      "source": [
        "avg_rating = ratings.groupby(\"movieId\")[\"rating\"].mean().reset_index()\n",
        "rating_count = ratings.groupby(\"movieId\")[\"rating\"].count().reset_index().rename(columns={\"rating\": \"rating_count\"})\n",
        "df = df.merge(avg_rating, on=\"movieId\").merge(rating_count, on=\"movieId\")\n",
        "df[\"log_rating_count\"] = np.log1p(df[\"rating_count\"])"
      ]
    },
    {
      "cell_type": "code",
      "execution_count": null,
      "metadata": {
        "colab": {
          "base_uri": "https://localhost:8080/"
        },
        "id": "zEQ9XOqty7dA",
        "outputId": "527f751c-49d4-4d39-92b4-e982fb4f11c5"
      },
      "outputs": [
        {
          "output_type": "stream",
          "name": "stdout",
          "text": [
            "   movieId                               title  (no genres listed)  Action  \\\n",
            "0        1                    Toy Story (1995)                   0       0   \n",
            "1        2                      Jumanji (1995)                   0       0   \n",
            "2        3             Grumpier Old Men (1995)                   0       0   \n",
            "3        4            Waiting to Exhale (1995)                   0       0   \n",
            "4        5  Father of the Bride Part II (1995)                   0       0   \n",
            "\n",
            "   Adventure  Animation  Children  Comedy  Crime  Documentary  ...  tag_year  \\\n",
            "0          1          1         1       1      0            0  ...       0.0   \n",
            "1          1          0         1       0      0            0  ...       0.0   \n",
            "2          0          0         0       1      0            0  ...       0.0   \n",
            "3          0          0         0       1      0            0  ...       0.0   \n",
            "4          0          0         0       1      0            0  ...       0.0   \n",
            "\n",
            "   tag_york  tag_zombies  avg_rating  imdbId   tmdbId  num_genres    rating  \\\n",
            "0       0.0          0.0    3.893508  114709    862.0           5  3.893508   \n",
            "1       0.0          0.0    3.278179  113497   8844.0           3  3.278179   \n",
            "2       0.0          0.0    3.171271  113228  15602.0           2  3.171271   \n",
            "3       0.0          0.0    2.868395  114885  31357.0           3  2.868395   \n",
            "4       0.0          0.0    3.076957  113041  11862.0           1  3.076957   \n",
            "\n",
            "   rating_count  log_rating_count  \n",
            "0         76813         11.249142  \n",
            "1         30209         10.315928  \n",
            "2         15820          9.669093  \n",
            "3          3028          8.015988  \n",
            "4         15801          9.667892  \n",
            "\n",
            "[5 rows x 330 columns]\n"
          ]
        }
      ],
      "source": [
        "print(df.head());"
      ]
    },
    {
      "cell_type": "code",
      "execution_count": null,
      "metadata": {
        "id": "wLtPe4Tczx04"
      },
      "outputs": [],
      "source": [
        "import re\n",
        "df = df.drop(columns=[\"year\"], errors=\"ignore\")\n",
        "df[\"year\"] = df[\"title\"].str.extract(r\"\\((\\d{4})\\)\").astype(float)"
      ]
    },
    {
      "cell_type": "code",
      "execution_count": null,
      "metadata": {
        "colab": {
          "base_uri": "https://localhost:8080/"
        },
        "id": "9hdqy1z9z0Nh",
        "outputId": "b3c66c9f-f35a-432c-93f9-6888e44cca08"
      },
      "outputs": [
        {
          "output_type": "stream",
          "name": "stdout",
          "text": [
            "   movieId                               title  (no genres listed)  Action  \\\n",
            "0        1                    Toy Story (1995)                   0       0   \n",
            "1        2                      Jumanji (1995)                   0       0   \n",
            "2        3             Grumpier Old Men (1995)                   0       0   \n",
            "3        4            Waiting to Exhale (1995)                   0       0   \n",
            "4        5  Father of the Bride Part II (1995)                   0       0   \n",
            "\n",
            "   Adventure  Animation  Children  Comedy  Crime  Documentary  ...  tag_york  \\\n",
            "0          1          1         1       1      0            0  ...       0.0   \n",
            "1          1          0         1       0      0            0  ...       0.0   \n",
            "2          0          0         0       1      0            0  ...       0.0   \n",
            "3          0          0         0       1      0            0  ...       0.0   \n",
            "4          0          0         0       1      0            0  ...       0.0   \n",
            "\n",
            "   tag_zombies  avg_rating  imdbId   tmdbId  num_genres    rating  \\\n",
            "0          0.0    3.893508  114709    862.0           5  3.893508   \n",
            "1          0.0    3.278179  113497   8844.0           3  3.278179   \n",
            "2          0.0    3.171271  113228  15602.0           2  3.171271   \n",
            "3          0.0    2.868395  114885  31357.0           3  2.868395   \n",
            "4          0.0    3.076957  113041  11862.0           1  3.076957   \n",
            "\n",
            "   rating_count  log_rating_count    year  \n",
            "0         76813         11.249142  1995.0  \n",
            "1         30209         10.315928  1995.0  \n",
            "2         15820          9.669093  1995.0  \n",
            "3          3028          8.015988  1995.0  \n",
            "4         15801          9.667892  1995.0  \n",
            "\n",
            "[5 rows x 331 columns]\n"
          ]
        }
      ],
      "source": [
        "print(df.head());"
      ]
    },
    {
      "cell_type": "code",
      "source": [
        "df = df.drop(columns=[\"rating\"], errors=\"ignore\")"
      ],
      "metadata": {
        "id": "hOcx0uznSLUw"
      },
      "execution_count": null,
      "outputs": []
    },
    {
      "cell_type": "code",
      "source": [
        "df.info(verbose=True)"
      ],
      "metadata": {
        "colab": {
          "base_uri": "https://localhost:8080/"
        },
        "id": "niQ19lfYTJ9H",
        "outputId": "b38d4fb6-ea11-4647-c13d-f9740b230b66"
      },
      "execution_count": null,
      "outputs": [
        {
          "output_type": "stream",
          "name": "stdout",
          "text": [
            "<class 'pandas.core.frame.DataFrame'>\n",
            "RangeIndex: 50097 entries, 0 to 50096\n",
            "Data columns (total 330 columns):\n",
            " #    Column              Dtype  \n",
            "---   ------              -----  \n",
            " 0    movieId             int64  \n",
            " 1    title               object \n",
            " 2    (no genres listed)  int64  \n",
            " 3    Action              int64  \n",
            " 4    Adventure           int64  \n",
            " 5    Animation           int64  \n",
            " 6    Children            int64  \n",
            " 7    Comedy              int64  \n",
            " 8    Crime               int64  \n",
            " 9    Documentary         int64  \n",
            " 10   Drama               int64  \n",
            " 11   Fantasy             int64  \n",
            " 12   Film-Noir           int64  \n",
            " 13   Horror              int64  \n",
            " 14   IMAX                int64  \n",
            " 15   Musical             int64  \n",
            " 16   Mystery             int64  \n",
            " 17   Romance             int64  \n",
            " 18   Sci-Fi              int64  \n",
            " 19   Thriller            int64  \n",
            " 20   War                 int64  \n",
            " 21   Western             int64  \n",
            " 22   tag                 object \n",
            " 23   tag_250             float64\n",
            " 24   tag_abuse           float64\n",
            " 25   tag_acting          float64\n",
            " 26   tag_action          float64\n",
            " 27   tag_actor           float64\n",
            " 28   tag_adapted         float64\n",
            " 29   tag_adventure       float64\n",
            " 30   tag_age             float64\n",
            " 31   tag_alien           float64\n",
            " 32   tag_aliens          float64\n",
            " 33   tag_alternate       float64\n",
            " 34   tag_american        float64\n",
            " 35   tag_animal          float64\n",
            " 36   tag_animation       float64\n",
            " 37   tag_anime           float64\n",
            " 38   tag_anti            float64\n",
            " 39   tag_apocalypse      float64\n",
            " 40   tag_apocalyptic     float64\n",
            " 41   tag_appealing       float64\n",
            " 42   tag_artificial      float64\n",
            " 43   tag_arts            float64\n",
            " 44   tag_atmospheric     float64\n",
            " 45   tag_bad             float64\n",
            " 46   tag_bare            float64\n",
            " 47   tag_based           float64\n",
            " 48   tag_bd              float64\n",
            " 49   tag_beautiful       float64\n",
            " 50   tag_bechdel         float64\n",
            " 51   tag_best            float64\n",
            " 52   tag_biography       float64\n",
            " 53   tag_bittersweet     float64\n",
            " 54   tag_black           float64\n",
            " 55   tag_blood           float64\n",
            " 56   tag_body            float64\n",
            " 57   tag_book            float64\n",
            " 58   tag_boring          float64\n",
            " 59   tag_boy             float64\n",
            " 60   tag_british         float64\n",
            " 61   tag_brother         float64\n",
            " 62   tag_brothers        float64\n",
            " 63   tag_business        float64\n",
            " 64   tag_camera          float64\n",
            " 65   tag_car             float64\n",
            " 66   tag_cast            float64\n",
            " 67   tag_century         float64\n",
            " 68   tag_character       float64\n",
            " 69   tag_characters      float64\n",
            " 70   tag_chase           float64\n",
            " 71   tag_child           float64\n",
            " 72   tag_children        float64\n",
            " 73   tag_christian       float64\n",
            " 74   tag_christmas       float64\n",
            " 75   tag_christopher     float64\n",
            " 76   tag_cinematography  float64\n",
            " 77   tag_city            float64\n",
            " 78   tag_classic         float64\n",
            " 79   tag_clever          float64\n",
            " 80   tag_comedy          float64\n",
            " 81   tag_comic           float64\n",
            " 82   tag_coming          float64\n",
            " 83   tag_commentary      float64\n",
            " 84   tag_computer        float64\n",
            " 85   tag_conspiracy      float64\n",
            " 86   tag_corruption      float64\n",
            " 87   tag_creepy          float64\n",
            " 88   tag_crime           float64\n",
            " 89   tag_criterion       float64\n",
            " 90   tag_cult            float64\n",
            " 91   tag_cyberpunk       float64\n",
            " 92   tag_dark            float64\n",
            " 93   tag_daughter        float64\n",
            " 94   tag_david           float64\n",
            " 95   tag_dead            float64\n",
            " 96   tag_death           float64\n",
            " 97   tag_detective       float64\n",
            " 98   tag_dialogue        float64\n",
            " 99   tag_director        float64\n",
            " 100  tag_disney          float64\n",
            " 101  tag_disturbing      float64\n",
            " 102  tag_documentary     float64\n",
            " 103  tag_dog             float64\n",
            " 104  tag_drama           float64\n",
            " 105  tag_dreamlike       float64\n",
            " 106  tag_drug            float64\n",
            " 107  tag_drugs           float64\n",
            " 108  tag_dvd             float64\n",
            " 109  tag_dystopia        float64\n",
            " 110  tag_effects         float64\n",
            " 111  tag_emotional       float64\n",
            " 112  tag_ending          float64\n",
            " 113  tag_england         float64\n",
            " 114  tag_epic            float64\n",
            " 115  tag_escape          float64\n",
            " 116  tag_espionage       float64\n",
            " 117  tag_evil            float64\n",
            " 118  tag_face            float64\n",
            " 119  tag_fairy           float64\n",
            " 120  tag_family          float64\n",
            " 121  tag_fantasy         float64\n",
            " 122  tag_father          float64\n",
            " 123  tag_feel            float64\n",
            " 124  tag_female          float64\n",
            " 125  tag_fi              float64\n",
            " 126  tag_fiction         float64\n",
            " 127  tag_fight           float64\n",
            " 128  tag_film            float64\n",
            " 129  tag_france          float64\n",
            " 130  tag_french          float64\n",
            " 131  tag_friendship      float64\n",
            " 132  tag_frontal         float64\n",
            " 133  tag_funny           float64\n",
            " 134  tag_future          float64\n",
            " 135  tag_futuristic      float64\n",
            " 136  tag_game            float64\n",
            " 137  tag_gay             float64\n",
            " 138  tag_girl            float64\n",
            " 139  tag_good            float64\n",
            " 140  tag_gore            float64\n",
            " 141  tag_great           float64\n",
            " 142  tag_gun             float64\n",
            " 143  tag_hand            float64\n",
            " 144  tag_head            float64\n",
            " 145  tag_heist           float64\n",
            " 146  tag_hero            float64\n",
            " 147  tag_high            float64\n",
            " 148  tag_historical      float64\n",
            " 149  tag_history         float64\n",
            " 150  tag_horror          float64\n",
            " 151  tag_house           float64\n",
            " 152  tag_human           float64\n",
            " 153  tag_humor           float64\n",
            " 154  tag_husband         float64\n",
            " 155  tag_identity        float64\n",
            " 156  tag_ii              float64\n",
            " 157  tag_illness         float64\n",
            " 158  tag_imdb            float64\n",
            " 159  tag_independent     float64\n",
            " 160  tag_inspirational   float64\n",
            " 161  tag_intelligence    float64\n",
            " 162  tag_intelligent     float64\n",
            " 163  tag_intense         float64\n",
            " 164  tag_investigation   float64\n",
            " 165  tag_james           float64\n",
            " 166  tag_japan           float64\n",
            " 167  tag_john            float64\n",
            " 168  tag_kidnapping      float64\n",
            " 169  tag_killer          float64\n",
            " 170  tag_language        float64\n",
            " 171  tag_lead            float64\n",
            " 172  tag_lesbian         float64\n",
            " 173  tag_life            float64\n",
            " 174  tag_loneliness      float64\n",
            " 175  tag_long            float64\n",
            " 176  tag_loss            float64\n",
            " 177  tag_love            float64\n",
            " 178  tag_mafia           float64\n",
            " 179  tag_magic           float64\n",
            " 180  tag_male            float64\n",
            " 181  tag_man             float64\n",
            " 182  tag_marriage        float64\n",
            " 183  tag_martial         float64\n",
            " 184  tag_marvel          float64\n",
            " 185  tag_memory          float64\n",
            " 186  tag_mental          float64\n",
            " 187  tag_michael         float64\n",
            " 188  tag_military        float64\n",
            " 189  tag_mindfuck        float64\n",
            " 190  tag_monster         float64\n",
            " 191  tag_mother          float64\n",
            " 192  tag_movie           float64\n",
            " 193  tag_multiple        float64\n",
            " 194  tag_murder          float64\n",
            " 195  tag_music           float64\n",
            " 196  tag_musical         float64\n",
            " 197  tag_mystery         float64\n",
            " 198  tag_neo             float64\n",
            " 199  tag_netflix         float64\n",
            " 200  tag_new             float64\n",
            " 201  tag_noir            float64\n",
            " 202  tag_nominee         float64\n",
            " 203  tag_nonlinear       float64\n",
            " 204  tag_notable         float64\n",
            " 205  tag_novel           float64\n",
            " 206  tag_nudity          float64\n",
            " 207  tag_old             float64\n",
            " 208  tag_organized       float64\n",
            " 209  tag_original        float64\n",
            " 210  tag_oscar           float64\n",
            " 211  tag_overrated       float64\n",
            " 212  tag_parody          float64\n",
            " 213  tag_philosophical   float64\n",
            " 214  tag_philosophy      float64\n",
            " 215  tag_picture         float64\n",
            " 216  tag_pixar           float64\n",
            " 217  tag_plot            float64\n",
            " 218  tag_police          float64\n",
            " 219  tag_political       float64\n",
            " 220  tag_politics        float64\n",
            " 221  tag_post            float64\n",
            " 222  tag_power           float64\n",
            " 223  tag_predictable     float64\n",
            " 224  tag_prison          float64\n",
            " 225  tag_protagonist     float64\n",
            " 226  tag_provoking       float64\n",
            " 227  tag_psychological   float64\n",
            " 228  tag_psychology      float64\n",
            " 229  tag_quentin         float64\n",
            " 230  tag_quirky          float64\n",
            " 231  tag_racism          float64\n",
            " 232  tag_rape            float64\n",
            " 233  tag_realistic       float64\n",
            " 234  tag_reality         float64\n",
            " 235  tag_reference       float64\n",
            " 236  tag_relationship    float64\n",
            " 237  tag_relationships   float64\n",
            " 238  tag_religion        float64\n",
            " 239  tag_remake          float64\n",
            " 240  tag_revenge         float64\n",
            " 241  tag_road            float64\n",
            " 242  tag_robert          float64\n",
            " 243  tag_robots          float64\n",
            " 244  tag_romance         float64\n",
            " 245  tag_romantic        float64\n",
            " 246  tag_satire          float64\n",
            " 247  tag_scene           float64\n",
            " 248  tag_school          float64\n",
            " 249  tag_sci             float64\n",
            " 250  tag_science         float64\n",
            " 251  tag_script          float64\n",
            " 252  tag_secret          float64\n",
            " 253  tag_seen            float64\n",
            " 254  tag_self            float64\n",
            " 255  tag_sequel          float64\n",
            " 256  tag_serial          float64\n",
            " 257  tag_sex             float64\n",
            " 258  tag_sexual          float64\n",
            " 259  tag_short           float64\n",
            " 260  tag_shot            float64\n",
            " 261  tag_slow            float64\n",
            " 262  tag_small           float64\n",
            " 263  tag_social          float64\n",
            " 264  tag_son             float64\n",
            " 265  tag_soundtrack      float64\n",
            " 266  tag_space           float64\n",
            " 267  tag_special         float64\n",
            " 268  tag_spy             float64\n",
            " 269  tag_stabbed         float64\n",
            " 270  tag_star            float64\n",
            " 271  tag_story           float64\n",
            " 272  tag_storylines      float64\n",
            " 273  tag_strong          float64\n",
            " 274  tag_stunning        float64\n",
            " 275  tag_stupid          float64\n",
            " 276  tag_stylized        float64\n",
            " 277  tag_suicide         float64\n",
            " 278  tag_superhero       float64\n",
            " 279  tag_supernatural    float64\n",
            " 280  tag_surreal         float64\n",
            " 281  tag_surrealism      float64\n",
            " 282  tag_survival        float64\n",
            " 283  tag_suspense        float64\n",
            " 284  tag_sword           float64\n",
            " 285  tag_talking         float64\n",
            " 286  tag_tarantino       float64\n",
            " 287  tag_teen            float64\n",
            " 288  tag_teenage         float64\n",
            " 289  tag_tense           float64\n",
            " 290  tag_test            float64\n",
            " 291  tag_thought         float64\n",
            " 292  tag_thriller        float64\n",
            " 293  tag_time            float64\n",
            " 294  tag_title           float64\n",
            " 295  tag_tom             float64\n",
            " 296  tag_topless         float64\n",
            " 297  tag_touching        float64\n",
            " 298  tag_town            float64\n",
            " 299  tag_train           float64\n",
            " 300  tag_travel          float64\n",
            " 301  tag_trip            float64\n",
            " 302  tag_true            float64\n",
            " 303  tag_tv              float64\n",
            " 304  tag_twist           float64\n",
            " 305  tag_video           float64\n",
            " 306  tag_violence        float64\n",
            " 307  tag_violent         float64\n",
            " 308  tag_visually        float64\n",
            " 309  tag_war             float64\n",
            " 310  tag_wears           float64\n",
            " 311  tag_weird           float64\n",
            " 312  tag_western         float64\n",
            " 313  tag_white           float64\n",
            " 314  tag_wife            float64\n",
            " 315  tag_witty           float64\n",
            " 316  tag_woman           float64\n",
            " 317  tag_word            float64\n",
            " 318  tag_world           float64\n",
            " 319  tag_writer          float64\n",
            " 320  tag_year            float64\n",
            " 321  tag_york            float64\n",
            " 322  tag_zombies         float64\n",
            " 323  avg_rating          float64\n",
            " 324  imdbId              int64  \n",
            " 325  tmdbId              float64\n",
            " 326  num_genres          int64  \n",
            " 327  rating_count        int64  \n",
            " 328  log_rating_count    float64\n",
            " 329  year                float64\n",
            "dtypes: float64(304), int64(24), object(2)\n",
            "memory usage: 126.1+ MB\n"
          ]
        }
      ]
    },
    {
      "cell_type": "code",
      "source": [
        "final_df.dropna(subset=['avg_rating'], inplace=True)"
      ],
      "metadata": {
        "id": "VnPUw_1HarmK"
      },
      "execution_count": null,
      "outputs": []
    },
    {
      "cell_type": "markdown",
      "source": [
        "Kasujemy tekst i id"
      ],
      "metadata": {
        "id": "uCnIU7OnjAt1"
      }
    },
    {
      "cell_type": "code",
      "source": [
        "drop_cols = ['movieId', 'title', 'tag', 'imdbId', 'tmdbId', 'avg_rating']\n",
        "X = final_df.drop(columns=drop_cols)"
      ],
      "metadata": {
        "id": "N65riZoOTrNh"
      },
      "execution_count": null,
      "outputs": []
    },
    {
      "cell_type": "code",
      "source": [
        "print(X.dtypes.value_counts())"
      ],
      "metadata": {
        "colab": {
          "base_uri": "https://localhost:8080/"
        },
        "id": "7tvv1OD0Ts6I",
        "outputId": "4727d141-0e37-417b-d35c-c3d29a9ccaec"
      },
      "execution_count": null,
      "outputs": [
        {
          "output_type": "stream",
          "name": "stdout",
          "text": [
            "float64    300\n",
            "int64       20\n",
            "Name: count, dtype: int64\n"
          ]
        }
      ]
    },
    {
      "cell_type": "markdown",
      "metadata": {
        "id": "XfR_kb-X26Dz"
      },
      "source": [
        "Normalizacja"
      ]
    },
    {
      "cell_type": "code",
      "execution_count": null,
      "metadata": {
        "id": "viUCsQZprf27"
      },
      "outputs": [],
      "source": [
        "from sklearn.preprocessing import StandardScaler\n",
        "\n",
        "scaler = StandardScaler()\n",
        "X_scaled = scaler.fit_transform(X)\n",
        "\n",
        "X_scaled_df = pd.DataFrame(X_scaled, columns=X.columns, index=X.index)"
      ]
    },
    {
      "cell_type": "markdown",
      "metadata": {
        "id": "Wsz0E1kA2lUb"
      },
      "source": [
        "Podział danych na testowe i treningowe"
      ]
    },
    {
      "cell_type": "code",
      "execution_count": null,
      "metadata": {
        "id": "19d5T3XrrwNP",
        "colab": {
          "base_uri": "https://localhost:8080/"
        },
        "outputId": "005308fe-2f29-45b7-dcef-3a311abdcdea"
      },
      "outputs": [
        {
          "output_type": "stream",
          "name": "stdout",
          "text": [
            "(66591, 320)\n",
            "(16648, 320)\n",
            "(66591,)\n",
            "(16648,)\n"
          ]
        }
      ],
      "source": [
        "from sklearn.model_selection import train_test_split # Ensure train_test_split is imported again if this cell is run independently\n",
        "\n",
        "y = final_df['avg_rating']\n",
        "X_train, X_test, y_train, y_test = train_test_split(\n",
        "    X_scaled_df, y, test_size=0.2, random_state=42\n",
        ")\n",
        "\n",
        "print(X_train.shape)\n",
        "print(X_test.shape)\n",
        "print(y_train.shape)\n",
        "print(y_test.shape)"
      ]
    },
    {
      "cell_type": "code",
      "source": [
        "print(final_df.columns[final_df.columns.duplicated()])\n"
      ],
      "metadata": {
        "colab": {
          "base_uri": "https://localhost:8080/"
        },
        "id": "QFbNY6jSaKjV",
        "outputId": "c988fe06-b81f-4484-ddd7-ee9f38a19751"
      },
      "execution_count": null,
      "outputs": [
        {
          "output_type": "stream",
          "name": "stdout",
          "text": [
            "Index([], dtype='object')\n"
          ]
        }
      ]
    },
    {
      "cell_type": "markdown",
      "metadata": {
        "id": "iU3Rnfxm1bb8"
      },
      "source": [
        "#XGB - Regressor"
      ]
    },
    {
      "cell_type": "code",
      "source": [
        "from sklearn.model_selection import train_test_split\n",
        "from xgboost import XGBRegressor\n",
        "from sklearn.metrics import mean_squared_error, mean_absolute_error, r2_score\n",
        "\n",
        "regressor = XGBRegressor(\n",
        "    n_estimators=200,\n",
        "    max_depth=7,\n",
        "    learning_rate=0.07,\n",
        "    subsample=0.8,\n",
        "    colsample_bytree=0.8,\n",
        "    random_state=42,\n",
        "    n_jobs=-1\n",
        ")\n",
        "\n",
        "regressor.fit(X_train, y_train)"
      ],
      "metadata": {
        "id": "LRj7wAdAKkZ0",
        "colab": {
          "base_uri": "https://localhost:8080/",
          "height": 254
        },
        "outputId": "ad10d1ea-ff5f-43ef-f1ea-33ff86ae26f0"
      },
      "execution_count": null,
      "outputs": [
        {
          "output_type": "execute_result",
          "data": {
            "text/plain": [
              "XGBRegressor(base_score=None, booster=None, callbacks=None,\n",
              "             colsample_bylevel=None, colsample_bynode=None,\n",
              "             colsample_bytree=0.8, device=None, early_stopping_rounds=None,\n",
              "             enable_categorical=False, eval_metric=None, feature_types=None,\n",
              "             gamma=None, grow_policy=None, importance_type=None,\n",
              "             interaction_constraints=None, learning_rate=0.07, max_bin=None,\n",
              "             max_cat_threshold=None, max_cat_to_onehot=None,\n",
              "             max_delta_step=None, max_depth=7, max_leaves=None,\n",
              "             min_child_weight=None, missing=nan, monotone_constraints=None,\n",
              "             multi_strategy=None, n_estimators=200, n_jobs=-1,\n",
              "             num_parallel_tree=None, random_state=42, ...)"
            ],
            "text/html": [
              "<style>#sk-container-id-3 {\n",
              "  /* Definition of color scheme common for light and dark mode */\n",
              "  --sklearn-color-text: #000;\n",
              "  --sklearn-color-text-muted: #666;\n",
              "  --sklearn-color-line: gray;\n",
              "  /* Definition of color scheme for unfitted estimators */\n",
              "  --sklearn-color-unfitted-level-0: #fff5e6;\n",
              "  --sklearn-color-unfitted-level-1: #f6e4d2;\n",
              "  --sklearn-color-unfitted-level-2: #ffe0b3;\n",
              "  --sklearn-color-unfitted-level-3: chocolate;\n",
              "  /* Definition of color scheme for fitted estimators */\n",
              "  --sklearn-color-fitted-level-0: #f0f8ff;\n",
              "  --sklearn-color-fitted-level-1: #d4ebff;\n",
              "  --sklearn-color-fitted-level-2: #b3dbfd;\n",
              "  --sklearn-color-fitted-level-3: cornflowerblue;\n",
              "\n",
              "  /* Specific color for light theme */\n",
              "  --sklearn-color-text-on-default-background: var(--sg-text-color, var(--theme-code-foreground, var(--jp-content-font-color1, black)));\n",
              "  --sklearn-color-background: var(--sg-background-color, var(--theme-background, var(--jp-layout-color0, white)));\n",
              "  --sklearn-color-border-box: var(--sg-text-color, var(--theme-code-foreground, var(--jp-content-font-color1, black)));\n",
              "  --sklearn-color-icon: #696969;\n",
              "\n",
              "  @media (prefers-color-scheme: dark) {\n",
              "    /* Redefinition of color scheme for dark theme */\n",
              "    --sklearn-color-text-on-default-background: var(--sg-text-color, var(--theme-code-foreground, var(--jp-content-font-color1, white)));\n",
              "    --sklearn-color-background: var(--sg-background-color, var(--theme-background, var(--jp-layout-color0, #111)));\n",
              "    --sklearn-color-border-box: var(--sg-text-color, var(--theme-code-foreground, var(--jp-content-font-color1, white)));\n",
              "    --sklearn-color-icon: #878787;\n",
              "  }\n",
              "}\n",
              "\n",
              "#sk-container-id-3 {\n",
              "  color: var(--sklearn-color-text);\n",
              "}\n",
              "\n",
              "#sk-container-id-3 pre {\n",
              "  padding: 0;\n",
              "}\n",
              "\n",
              "#sk-container-id-3 input.sk-hidden--visually {\n",
              "  border: 0;\n",
              "  clip: rect(1px 1px 1px 1px);\n",
              "  clip: rect(1px, 1px, 1px, 1px);\n",
              "  height: 1px;\n",
              "  margin: -1px;\n",
              "  overflow: hidden;\n",
              "  padding: 0;\n",
              "  position: absolute;\n",
              "  width: 1px;\n",
              "}\n",
              "\n",
              "#sk-container-id-3 div.sk-dashed-wrapped {\n",
              "  border: 1px dashed var(--sklearn-color-line);\n",
              "  margin: 0 0.4em 0.5em 0.4em;\n",
              "  box-sizing: border-box;\n",
              "  padding-bottom: 0.4em;\n",
              "  background-color: var(--sklearn-color-background);\n",
              "}\n",
              "\n",
              "#sk-container-id-3 div.sk-container {\n",
              "  /* jupyter's `normalize.less` sets `[hidden] { display: none; }`\n",
              "     but bootstrap.min.css set `[hidden] { display: none !important; }`\n",
              "     so we also need the `!important` here to be able to override the\n",
              "     default hidden behavior on the sphinx rendered scikit-learn.org.\n",
              "     See: https://github.com/scikit-learn/scikit-learn/issues/21755 */\n",
              "  display: inline-block !important;\n",
              "  position: relative;\n",
              "}\n",
              "\n",
              "#sk-container-id-3 div.sk-text-repr-fallback {\n",
              "  display: none;\n",
              "}\n",
              "\n",
              "div.sk-parallel-item,\n",
              "div.sk-serial,\n",
              "div.sk-item {\n",
              "  /* draw centered vertical line to link estimators */\n",
              "  background-image: linear-gradient(var(--sklearn-color-text-on-default-background), var(--sklearn-color-text-on-default-background));\n",
              "  background-size: 2px 100%;\n",
              "  background-repeat: no-repeat;\n",
              "  background-position: center center;\n",
              "}\n",
              "\n",
              "/* Parallel-specific style estimator block */\n",
              "\n",
              "#sk-container-id-3 div.sk-parallel-item::after {\n",
              "  content: \"\";\n",
              "  width: 100%;\n",
              "  border-bottom: 2px solid var(--sklearn-color-text-on-default-background);\n",
              "  flex-grow: 1;\n",
              "}\n",
              "\n",
              "#sk-container-id-3 div.sk-parallel {\n",
              "  display: flex;\n",
              "  align-items: stretch;\n",
              "  justify-content: center;\n",
              "  background-color: var(--sklearn-color-background);\n",
              "  position: relative;\n",
              "}\n",
              "\n",
              "#sk-container-id-3 div.sk-parallel-item {\n",
              "  display: flex;\n",
              "  flex-direction: column;\n",
              "}\n",
              "\n",
              "#sk-container-id-3 div.sk-parallel-item:first-child::after {\n",
              "  align-self: flex-end;\n",
              "  width: 50%;\n",
              "}\n",
              "\n",
              "#sk-container-id-3 div.sk-parallel-item:last-child::after {\n",
              "  align-self: flex-start;\n",
              "  width: 50%;\n",
              "}\n",
              "\n",
              "#sk-container-id-3 div.sk-parallel-item:only-child::after {\n",
              "  width: 0;\n",
              "}\n",
              "\n",
              "/* Serial-specific style estimator block */\n",
              "\n",
              "#sk-container-id-3 div.sk-serial {\n",
              "  display: flex;\n",
              "  flex-direction: column;\n",
              "  align-items: center;\n",
              "  background-color: var(--sklearn-color-background);\n",
              "  padding-right: 1em;\n",
              "  padding-left: 1em;\n",
              "}\n",
              "\n",
              "\n",
              "/* Toggleable style: style used for estimator/Pipeline/ColumnTransformer box that is\n",
              "clickable and can be expanded/collapsed.\n",
              "- Pipeline and ColumnTransformer use this feature and define the default style\n",
              "- Estimators will overwrite some part of the style using the `sk-estimator` class\n",
              "*/\n",
              "\n",
              "/* Pipeline and ColumnTransformer style (default) */\n",
              "\n",
              "#sk-container-id-3 div.sk-toggleable {\n",
              "  /* Default theme specific background. It is overwritten whether we have a\n",
              "  specific estimator or a Pipeline/ColumnTransformer */\n",
              "  background-color: var(--sklearn-color-background);\n",
              "}\n",
              "\n",
              "/* Toggleable label */\n",
              "#sk-container-id-3 label.sk-toggleable__label {\n",
              "  cursor: pointer;\n",
              "  display: flex;\n",
              "  width: 100%;\n",
              "  margin-bottom: 0;\n",
              "  padding: 0.5em;\n",
              "  box-sizing: border-box;\n",
              "  text-align: center;\n",
              "  align-items: start;\n",
              "  justify-content: space-between;\n",
              "  gap: 0.5em;\n",
              "}\n",
              "\n",
              "#sk-container-id-3 label.sk-toggleable__label .caption {\n",
              "  font-size: 0.6rem;\n",
              "  font-weight: lighter;\n",
              "  color: var(--sklearn-color-text-muted);\n",
              "}\n",
              "\n",
              "#sk-container-id-3 label.sk-toggleable__label-arrow:before {\n",
              "  /* Arrow on the left of the label */\n",
              "  content: \"▸\";\n",
              "  float: left;\n",
              "  margin-right: 0.25em;\n",
              "  color: var(--sklearn-color-icon);\n",
              "}\n",
              "\n",
              "#sk-container-id-3 label.sk-toggleable__label-arrow:hover:before {\n",
              "  color: var(--sklearn-color-text);\n",
              "}\n",
              "\n",
              "/* Toggleable content - dropdown */\n",
              "\n",
              "#sk-container-id-3 div.sk-toggleable__content {\n",
              "  max-height: 0;\n",
              "  max-width: 0;\n",
              "  overflow: hidden;\n",
              "  text-align: left;\n",
              "  /* unfitted */\n",
              "  background-color: var(--sklearn-color-unfitted-level-0);\n",
              "}\n",
              "\n",
              "#sk-container-id-3 div.sk-toggleable__content.fitted {\n",
              "  /* fitted */\n",
              "  background-color: var(--sklearn-color-fitted-level-0);\n",
              "}\n",
              "\n",
              "#sk-container-id-3 div.sk-toggleable__content pre {\n",
              "  margin: 0.2em;\n",
              "  border-radius: 0.25em;\n",
              "  color: var(--sklearn-color-text);\n",
              "  /* unfitted */\n",
              "  background-color: var(--sklearn-color-unfitted-level-0);\n",
              "}\n",
              "\n",
              "#sk-container-id-3 div.sk-toggleable__content.fitted pre {\n",
              "  /* unfitted */\n",
              "  background-color: var(--sklearn-color-fitted-level-0);\n",
              "}\n",
              "\n",
              "#sk-container-id-3 input.sk-toggleable__control:checked~div.sk-toggleable__content {\n",
              "  /* Expand drop-down */\n",
              "  max-height: 200px;\n",
              "  max-width: 100%;\n",
              "  overflow: auto;\n",
              "}\n",
              "\n",
              "#sk-container-id-3 input.sk-toggleable__control:checked~label.sk-toggleable__label-arrow:before {\n",
              "  content: \"▾\";\n",
              "}\n",
              "\n",
              "/* Pipeline/ColumnTransformer-specific style */\n",
              "\n",
              "#sk-container-id-3 div.sk-label input.sk-toggleable__control:checked~label.sk-toggleable__label {\n",
              "  color: var(--sklearn-color-text);\n",
              "  background-color: var(--sklearn-color-unfitted-level-2);\n",
              "}\n",
              "\n",
              "#sk-container-id-3 div.sk-label.fitted input.sk-toggleable__control:checked~label.sk-toggleable__label {\n",
              "  background-color: var(--sklearn-color-fitted-level-2);\n",
              "}\n",
              "\n",
              "/* Estimator-specific style */\n",
              "\n",
              "/* Colorize estimator box */\n",
              "#sk-container-id-3 div.sk-estimator input.sk-toggleable__control:checked~label.sk-toggleable__label {\n",
              "  /* unfitted */\n",
              "  background-color: var(--sklearn-color-unfitted-level-2);\n",
              "}\n",
              "\n",
              "#sk-container-id-3 div.sk-estimator.fitted input.sk-toggleable__control:checked~label.sk-toggleable__label {\n",
              "  /* fitted */\n",
              "  background-color: var(--sklearn-color-fitted-level-2);\n",
              "}\n",
              "\n",
              "#sk-container-id-3 div.sk-label label.sk-toggleable__label,\n",
              "#sk-container-id-3 div.sk-label label {\n",
              "  /* The background is the default theme color */\n",
              "  color: var(--sklearn-color-text-on-default-background);\n",
              "}\n",
              "\n",
              "/* On hover, darken the color of the background */\n",
              "#sk-container-id-3 div.sk-label:hover label.sk-toggleable__label {\n",
              "  color: var(--sklearn-color-text);\n",
              "  background-color: var(--sklearn-color-unfitted-level-2);\n",
              "}\n",
              "\n",
              "/* Label box, darken color on hover, fitted */\n",
              "#sk-container-id-3 div.sk-label.fitted:hover label.sk-toggleable__label.fitted {\n",
              "  color: var(--sklearn-color-text);\n",
              "  background-color: var(--sklearn-color-fitted-level-2);\n",
              "}\n",
              "\n",
              "/* Estimator label */\n",
              "\n",
              "#sk-container-id-3 div.sk-label label {\n",
              "  font-family: monospace;\n",
              "  font-weight: bold;\n",
              "  display: inline-block;\n",
              "  line-height: 1.2em;\n",
              "}\n",
              "\n",
              "#sk-container-id-3 div.sk-label-container {\n",
              "  text-align: center;\n",
              "}\n",
              "\n",
              "/* Estimator-specific */\n",
              "#sk-container-id-3 div.sk-estimator {\n",
              "  font-family: monospace;\n",
              "  border: 1px dotted var(--sklearn-color-border-box);\n",
              "  border-radius: 0.25em;\n",
              "  box-sizing: border-box;\n",
              "  margin-bottom: 0.5em;\n",
              "  /* unfitted */\n",
              "  background-color: var(--sklearn-color-unfitted-level-0);\n",
              "}\n",
              "\n",
              "#sk-container-id-3 div.sk-estimator.fitted {\n",
              "  /* fitted */\n",
              "  background-color: var(--sklearn-color-fitted-level-0);\n",
              "}\n",
              "\n",
              "/* on hover */\n",
              "#sk-container-id-3 div.sk-estimator:hover {\n",
              "  /* unfitted */\n",
              "  background-color: var(--sklearn-color-unfitted-level-2);\n",
              "}\n",
              "\n",
              "#sk-container-id-3 div.sk-estimator.fitted:hover {\n",
              "  /* fitted */\n",
              "  background-color: var(--sklearn-color-fitted-level-2);\n",
              "}\n",
              "\n",
              "/* Specification for estimator info (e.g. \"i\" and \"?\") */\n",
              "\n",
              "/* Common style for \"i\" and \"?\" */\n",
              "\n",
              ".sk-estimator-doc-link,\n",
              "a:link.sk-estimator-doc-link,\n",
              "a:visited.sk-estimator-doc-link {\n",
              "  float: right;\n",
              "  font-size: smaller;\n",
              "  line-height: 1em;\n",
              "  font-family: monospace;\n",
              "  background-color: var(--sklearn-color-background);\n",
              "  border-radius: 1em;\n",
              "  height: 1em;\n",
              "  width: 1em;\n",
              "  text-decoration: none !important;\n",
              "  margin-left: 0.5em;\n",
              "  text-align: center;\n",
              "  /* unfitted */\n",
              "  border: var(--sklearn-color-unfitted-level-1) 1pt solid;\n",
              "  color: var(--sklearn-color-unfitted-level-1);\n",
              "}\n",
              "\n",
              ".sk-estimator-doc-link.fitted,\n",
              "a:link.sk-estimator-doc-link.fitted,\n",
              "a:visited.sk-estimator-doc-link.fitted {\n",
              "  /* fitted */\n",
              "  border: var(--sklearn-color-fitted-level-1) 1pt solid;\n",
              "  color: var(--sklearn-color-fitted-level-1);\n",
              "}\n",
              "\n",
              "/* On hover */\n",
              "div.sk-estimator:hover .sk-estimator-doc-link:hover,\n",
              ".sk-estimator-doc-link:hover,\n",
              "div.sk-label-container:hover .sk-estimator-doc-link:hover,\n",
              ".sk-estimator-doc-link:hover {\n",
              "  /* unfitted */\n",
              "  background-color: var(--sklearn-color-unfitted-level-3);\n",
              "  color: var(--sklearn-color-background);\n",
              "  text-decoration: none;\n",
              "}\n",
              "\n",
              "div.sk-estimator.fitted:hover .sk-estimator-doc-link.fitted:hover,\n",
              ".sk-estimator-doc-link.fitted:hover,\n",
              "div.sk-label-container:hover .sk-estimator-doc-link.fitted:hover,\n",
              ".sk-estimator-doc-link.fitted:hover {\n",
              "  /* fitted */\n",
              "  background-color: var(--sklearn-color-fitted-level-3);\n",
              "  color: var(--sklearn-color-background);\n",
              "  text-decoration: none;\n",
              "}\n",
              "\n",
              "/* Span, style for the box shown on hovering the info icon */\n",
              ".sk-estimator-doc-link span {\n",
              "  display: none;\n",
              "  z-index: 9999;\n",
              "  position: relative;\n",
              "  font-weight: normal;\n",
              "  right: .2ex;\n",
              "  padding: .5ex;\n",
              "  margin: .5ex;\n",
              "  width: min-content;\n",
              "  min-width: 20ex;\n",
              "  max-width: 50ex;\n",
              "  color: var(--sklearn-color-text);\n",
              "  box-shadow: 2pt 2pt 4pt #999;\n",
              "  /* unfitted */\n",
              "  background: var(--sklearn-color-unfitted-level-0);\n",
              "  border: .5pt solid var(--sklearn-color-unfitted-level-3);\n",
              "}\n",
              "\n",
              ".sk-estimator-doc-link.fitted span {\n",
              "  /* fitted */\n",
              "  background: var(--sklearn-color-fitted-level-0);\n",
              "  border: var(--sklearn-color-fitted-level-3);\n",
              "}\n",
              "\n",
              ".sk-estimator-doc-link:hover span {\n",
              "  display: block;\n",
              "}\n",
              "\n",
              "/* \"?\"-specific style due to the `<a>` HTML tag */\n",
              "\n",
              "#sk-container-id-3 a.estimator_doc_link {\n",
              "  float: right;\n",
              "  font-size: 1rem;\n",
              "  line-height: 1em;\n",
              "  font-family: monospace;\n",
              "  background-color: var(--sklearn-color-background);\n",
              "  border-radius: 1rem;\n",
              "  height: 1rem;\n",
              "  width: 1rem;\n",
              "  text-decoration: none;\n",
              "  /* unfitted */\n",
              "  color: var(--sklearn-color-unfitted-level-1);\n",
              "  border: var(--sklearn-color-unfitted-level-1) 1pt solid;\n",
              "}\n",
              "\n",
              "#sk-container-id-3 a.estimator_doc_link.fitted {\n",
              "  /* fitted */\n",
              "  border: var(--sklearn-color-fitted-level-1) 1pt solid;\n",
              "  color: var(--sklearn-color-fitted-level-1);\n",
              "}\n",
              "\n",
              "/* On hover */\n",
              "#sk-container-id-3 a.estimator_doc_link:hover {\n",
              "  /* unfitted */\n",
              "  background-color: var(--sklearn-color-unfitted-level-3);\n",
              "  color: var(--sklearn-color-background);\n",
              "  text-decoration: none;\n",
              "}\n",
              "\n",
              "#sk-container-id-3 a.estimator_doc_link.fitted:hover {\n",
              "  /* fitted */\n",
              "  background-color: var(--sklearn-color-fitted-level-3);\n",
              "}\n",
              "</style><div id=\"sk-container-id-3\" class=\"sk-top-container\"><div class=\"sk-text-repr-fallback\"><pre>XGBRegressor(base_score=None, booster=None, callbacks=None,\n",
              "             colsample_bylevel=None, colsample_bynode=None,\n",
              "             colsample_bytree=0.8, device=None, early_stopping_rounds=None,\n",
              "             enable_categorical=False, eval_metric=None, feature_types=None,\n",
              "             gamma=None, grow_policy=None, importance_type=None,\n",
              "             interaction_constraints=None, learning_rate=0.07, max_bin=None,\n",
              "             max_cat_threshold=None, max_cat_to_onehot=None,\n",
              "             max_delta_step=None, max_depth=7, max_leaves=None,\n",
              "             min_child_weight=None, missing=nan, monotone_constraints=None,\n",
              "             multi_strategy=None, n_estimators=200, n_jobs=-1,\n",
              "             num_parallel_tree=None, random_state=42, ...)</pre><b>In a Jupyter environment, please rerun this cell to show the HTML representation or trust the notebook. <br />On GitHub, the HTML representation is unable to render, please try loading this page with nbviewer.org.</b></div><div class=\"sk-container\" hidden><div class=\"sk-item\"><div class=\"sk-estimator fitted sk-toggleable\"><input class=\"sk-toggleable__control sk-hidden--visually\" id=\"sk-estimator-id-3\" type=\"checkbox\" checked><label for=\"sk-estimator-id-3\" class=\"sk-toggleable__label fitted sk-toggleable__label-arrow\"><div><div>XGBRegressor</div></div><div><span class=\"sk-estimator-doc-link fitted\">i<span>Fitted</span></span></div></label><div class=\"sk-toggleable__content fitted\"><pre>XGBRegressor(base_score=None, booster=None, callbacks=None,\n",
              "             colsample_bylevel=None, colsample_bynode=None,\n",
              "             colsample_bytree=0.8, device=None, early_stopping_rounds=None,\n",
              "             enable_categorical=False, eval_metric=None, feature_types=None,\n",
              "             gamma=None, grow_policy=None, importance_type=None,\n",
              "             interaction_constraints=None, learning_rate=0.07, max_bin=None,\n",
              "             max_cat_threshold=None, max_cat_to_onehot=None,\n",
              "             max_delta_step=None, max_depth=7, max_leaves=None,\n",
              "             min_child_weight=None, missing=nan, monotone_constraints=None,\n",
              "             multi_strategy=None, n_estimators=200, n_jobs=-1,\n",
              "             num_parallel_tree=None, random_state=42, ...)</pre></div> </div></div></div></div>"
            ]
          },
          "metadata": {},
          "execution_count": 339
        }
      ]
    },
    {
      "cell_type": "markdown",
      "source": [
        "Ocena modelu"
      ],
      "metadata": {
        "id": "9_aXB84ejHEH"
      }
    },
    {
      "cell_type": "code",
      "source": [
        "from sklearn.model_selection import train_test_split\n",
        "from xgboost import XGBRegressor\n",
        "from sklearn.metrics import mean_squared_error, mean_absolute_error, r2_score\n",
        "import numpy as np\n",
        "\n",
        "y_pred = regressor.predict(X_test)\n",
        "mse = mean_squared_error(y_test, y_pred)\n",
        "rmse = np.sqrt(mse)\n",
        "mae = mean_absolute_error(y_test, y_pred)\n",
        "r2 = r2_score(y_test, y_pred)\n",
        "\n",
        "print(f\"MSE: {mse:.4f}\")\n",
        "print(f\"RMSE: {rmse:.4f}\")\n",
        "print(f\"MAE: {mae:.4f}\")\n",
        "print(f\"R^2: {r2:.4f}\")"
      ],
      "metadata": {
        "colab": {
          "base_uri": "https://localhost:8080/"
        },
        "id": "otuYrle-Yo5Z",
        "outputId": "bb9b7887-06ea-4f57-ab9a-d2b2562eacde"
      },
      "execution_count": null,
      "outputs": [
        {
          "output_type": "stream",
          "name": "stdout",
          "text": [
            "MSE: 0.5462\n",
            "RMSE: 0.7391\n",
            "MAE: 0.5363\n",
            "R^2: 0.1379\n"
          ]
        }
      ]
    },
    {
      "cell_type": "markdown",
      "source": [
        "Można spróbować polepszyć wynik przez wyliczenie kolejnych atrybutów"
      ],
      "metadata": {
        "id": "DRnnoYPdjJwE"
      }
    },
    {
      "cell_type": "code",
      "source": [
        "import numpy as np\n",
        "\n",
        "final_df = df.copy()\n"
      ],
      "metadata": {
        "id": "5shzeVYFgeaP"
      },
      "execution_count": null,
      "outputs": []
    },
    {
      "cell_type": "code",
      "source": [
        "final_df['decade'] = (final_df['year'] // 10) * 10\n",
        "final_df['title_length'] = final_df['title'].str.len()\n",
        "final_df['tag_count'] = final_df['tag'].fillna('').apply(lambda x: len(x.split()))\n",
        "genre_cols = [c for c in final_df.columns if c in ['Action', 'Adventure', 'Animation', 'Children', 'Comedy', 'Crime', 'Documentary', 'Drama', 'Fantasy', 'Film-Noir', 'Horror', 'IMAX', 'Musical', 'Mystery', 'Romance', 'Sci-Fi', 'Thriller', 'War', 'Western']]\n",
        "final_df['num_genres'] = final_df[genre_cols].sum(axis=1)"
      ],
      "metadata": {
        "id": "w4DOYWDwg1Ju"
      },
      "execution_count": null,
      "outputs": []
    },
    {
      "cell_type": "markdown",
      "source": [
        "Dekada, długość tytułu, ile tagów i ile genres"
      ],
      "metadata": {
        "id": "fWKQQfWmjUZ2"
      }
    },
    {
      "cell_type": "code",
      "source": [
        "final_df.dropna(inplace=True)"
      ],
      "metadata": {
        "id": "q59UBguIhmAV"
      },
      "execution_count": null,
      "outputs": []
    },
    {
      "cell_type": "markdown",
      "source": [
        "Kasujemy tekst i id"
      ],
      "metadata": {
        "id": "E1ziv4Y2jcFc"
      }
    },
    {
      "cell_type": "code",
      "source": [
        "drop_cols = ['movieId', 'title', 'tag', 'imdbId', 'tmdbId', 'avg_rating']\n",
        "X = final_df.drop(columns=drop_cols)"
      ],
      "metadata": {
        "id": "leqIDIixhDsB"
      },
      "execution_count": null,
      "outputs": []
    },
    {
      "cell_type": "markdown",
      "source": [
        "Ponownie normalizacja"
      ],
      "metadata": {
        "id": "G_QKTHJSjejl"
      }
    },
    {
      "cell_type": "code",
      "source": [
        "scaler = StandardScaler()\n",
        "X_scaled = scaler.fit_transform(X)\n",
        "X_scaled_df = pd.DataFrame(X_scaled, columns=X.columns, index=X.index)"
      ],
      "metadata": {
        "id": "cLJAGd2NhFHT"
      },
      "execution_count": null,
      "outputs": []
    },
    {
      "cell_type": "code",
      "source": [
        "y = final_df['avg_rating']\n",
        "X_train, X_test, y_train, y_test = train_test_split(\n",
        "    X_scaled_df, y, test_size=0.2, random_state=42\n",
        ")"
      ],
      "metadata": {
        "id": "rZAHZxF4hIPz"
      },
      "execution_count": null,
      "outputs": []
    },
    {
      "cell_type": "code",
      "source": [
        "from sklearn.ensemble import RandomForestRegressor\n",
        "from sklearn.linear_model import LinearRegression\n",
        "from sklearn.neighbors import KNeighborsRegressor\n",
        "from sklearn.metrics import mean_squared_error, mean_absolute_error, r2_score\n",
        "\n",
        "models = {\n",
        "    \"XGBoost\": XGBRegressor(n_estimators=200, max_depth=7, learning_rate=0.07, random_state=42, n_jobs=-1),\n",
        "    \"RandomForest\": RandomForestRegressor(n_estimators=200, max_depth=12, random_state=42, n_jobs=-1),\n",
        "    \"LinearRegression\": LinearRegression(),\n",
        "    \"KNN\": KNeighborsRegressor(n_neighbors=10)\n",
        "}\n",
        "\n",
        "results = {}\n",
        "\n",
        "for name, model in models.items():\n",
        "    model.fit(X_train, y_train)\n",
        "    y_pred = model.predict(X_test)\n",
        "    mse = mean_squared_error(y_test, y_pred)\n",
        "    rmse = np.sqrt(mse)\n",
        "    mae = mean_absolute_error(y_test, y_pred)\n",
        "    r2 = r2_score(y_test, y_pred)\n",
        "    results[name] = (mse, rmse, mae, r2)\n",
        "    print(f\"\\n{name}\")\n",
        "    print(f\"MSE: {mse:.4f}  RMSE: {rmse:.4f}  MAE: {mae:.4f}  R2: {r2:.4f}\")"
      ],
      "metadata": {
        "colab": {
          "base_uri": "https://localhost:8080/"
        },
        "id": "eLSdUc7JhN-f",
        "outputId": "b21f6706-077d-494b-ec82-ffb3c334194f"
      },
      "execution_count": null,
      "outputs": [
        {
          "output_type": "stream",
          "name": "stdout",
          "text": [
            "\n",
            "XGBoost\n",
            "MSE: 0.3301  RMSE: 0.5745  MAE: 0.4058  R2: 0.2539\n",
            "\n",
            "RandomForest\n",
            "MSE: 0.3385  RMSE: 0.5818  MAE: 0.4145  R2: 0.2348\n",
            "\n",
            "LinearRegression\n",
            "MSE: 0.3443  RMSE: 0.5867  MAE: 0.4209  R2: 0.2218\n",
            "\n",
            "KNN\n",
            "MSE: 0.4067  RMSE: 0.6377  MAE: 0.4754  R2: 0.0807\n"
          ]
        }
      ]
    },
    {
      "cell_type": "markdown",
      "source": [
        "#Wybór modelu\n",
        "\n",
        "Poprzedni model XGB:\n",
        "\n",
        "*   MSE: 0.5462\n",
        "*   RMSE: 0.7391\n",
        "*   MAE: 0.5363\n",
        "*   R^2: 0.1379\n",
        "\n",
        "\n",
        "Model po dodaniu 'num_genres', 'tag_count', 'title_length', 'decade'\n",
        "\n",
        "*   MSE: 0.3301\n",
        "*   RMSE: 0.5745\n",
        "*   MAE: 0.4058\n",
        "*   R^2: 0.2539\n",
        "\n",
        "\n",
        "\n"
      ],
      "metadata": {
        "id": "ao7I81HGh0JK"
      }
    },
    {
      "cell_type": "markdown",
      "source": [
        "#Feature importance"
      ],
      "metadata": {
        "id": "P-WNgF0QjyXl"
      }
    },
    {
      "cell_type": "code",
      "source": [
        "importances = models['XGBoost'].feature_importances_\n",
        "feature_names = X_train.columns\n",
        "indices = np.argsort(importances)[::-1][:20]\n",
        "\n",
        "plt.figure(figsize=(10, 7))\n",
        "plt.barh(range(len(indices)), importances[indices][::-1], align='center')\n",
        "plt.yticks(range(len(indices)), [feature_names[i] for i in indices][::-1])\n",
        "plt.xlabel('Ważność cechy')\n",
        "plt.title('Top 20 najważniejszych cech (XGBoost)')\n",
        "plt.show()\n"
      ],
      "metadata": {
        "colab": {
          "base_uri": "https://localhost:8080/",
          "height": 642
        },
        "id": "iAMGYa02jk4P",
        "outputId": "440436e5-6ee8-464b-851a-4ec4142a088b"
      },
      "execution_count": null,
      "outputs": [
        {
          "output_type": "display_data",
          "data": {
            "text/plain": [
              "<Figure size 1000x700 with 1 Axes>"
            ],
            "image/png": "[encoded data removed]"
          },
          "metadata": {}
        }
      ]
    },
    {
      "cell_type": "markdown",
      "source": [
        "Czy błąd zależy od liczby tagów/gatunków"
      ],
      "metadata": {
        "id": "HwzPO0rukP1u"
      }
    },
    {
      "cell_type": "code",
      "source": [
        "errors = y_test - y_pred\n",
        "\n",
        "df_plot = pd.DataFrame({\n",
        "    'tag_count': final_df.loc[y_test.index, 'tag_count'],\n",
        "    'error': errors\n",
        "})"
      ],
      "metadata": {
        "id": "4zIcvpAclPh1"
      },
      "execution_count": null,
      "outputs": []
    },
    {
      "cell_type": "code",
      "source": [
        "mean_errors_filtered = mean_errors[mean_errors.index <= 30]\n",
        "plt.figure(figsize=(8,5))\n",
        "plt.plot(mean_errors_filtered.index, mean_errors_filtered.values, marker='o')\n",
        "plt.xlabel(\"Liczba tagów (do 10)\")\n",
        "plt.ylabel(\"Średni błąd predykcji\")\n",
        "plt.title(\"Średni błąd modelu vs liczba tagów (do 10)\")\n",
        "plt.show()"
      ],
      "metadata": {
        "colab": {
          "base_uri": "https://localhost:8080/",
          "height": 491
        },
        "id": "67-8-t1IkQIO",
        "outputId": "513279a0-b79a-4286-89d7-098aaa42012f"
      },
      "execution_count": null,
      "outputs": [
        {
          "output_type": "display_data",
          "data": {
            "text/plain": [
              "<Figure size 800x500 with 1 Axes>"
            ],
            "image/png": "[encoded data removed]"
          },
          "metadata": {}
        }
      ]
    },
    {
      "cell_type": "code",
      "source": [
        "err_abs = np.abs(errors)\n",
        "worst_idx = np.argsort(-err_abs)[:10]\n",
        "\n",
        "print(\"TOP 10 największych błędów modelu:\")\n",
        "for i in worst_idx:\n",
        "    idx = y_test.index[i]\n",
        "    tytul = final_df.loc[idx, \"title\"]\n",
        "    print(f\"{tytul:50s} | rzeczywista: {y_test.iloc[i]:.2f} | predykcja: {y_pred[i]:.2f} | błąd: {errors.iloc[i]:.2f}\")"
      ],
      "metadata": {
        "colab": {
          "base_uri": "https://localhost:8080/"
        },
        "id": "mXQixCOcktjY",
        "outputId": "b178e43a-c06d-41fe-fe76-e727ce9e55a2"
      },
      "execution_count": null,
      "outputs": [
        {
          "output_type": "stream",
          "name": "stdout",
          "text": [
            "TOP 10 największych błędów modelu:\n",
            "King Ubu (2004)                                    | rzeczywista: 0.50 | predykcja: 3.57 | błąd: -3.07\n",
            "Throne of Elves (2017)                             | rzeczywista: 4.50 | predykcja: 1.49 | błąd: 3.01\n",
            "Churuli (2021)                                     | rzeczywista: 5.00 | predykcja: 2.00 | błąd: 3.00\n",
            "The Life & Crimes of Doris Payne (2013)            | rzeczywista: 0.50 | predykcja: 3.47 | błąd: -2.97\n",
            "Caravaggio: The Soul and the Blood (2018)          | rzeczywista: 0.50 | predykcja: 3.43 | błąd: -2.93\n",
            "News from Ideological Antiquity: Marx/Eisenstein/The Capital (2008) | rzeczywista: 0.50 | predykcja: 3.42 | błąd: -2.92\n",
            "Late Great Planet Earth, The (1979)                | rzeczywista: 0.50 | predykcja: 3.38 | błąd: -2.88\n",
            "Gandhada Gudi (2022)                               | rzeczywista: 0.50 | predykcja: 3.28 | błąd: -2.78\n",
            "My Friend the Polish Girl (2019)                   | rzeczywista: 0.50 | predykcja: 3.19 | błąd: -2.69\n",
            "23 Walks (2020)                                    | rzeczywista: 0.50 | predykcja: 3.05 | błąd: -2.55\n"
          ]
        }
      ]
    },
    {
      "cell_type": "code",
      "source": [
        "cols = ['year', 'decade', 'title_length', 'tag_count', 'num_genres', 'avg_rating']\n",
        "sns.heatmap(final_df[cols].corr(), annot=True, cmap='coolwarm')\n",
        "plt.title(\"Korelacja engineered features z oceną\")\n",
        "plt.show()"
      ],
      "metadata": {
        "colab": {
          "base_uri": "https://localhost:8080/",
          "height": 523
        },
        "id": "FQHmP8orlC9Y",
        "outputId": "6ae71a16-0198-46e7-d4c0-aeabae52e79a"
      },
      "execution_count": null,
      "outputs": [
        {
          "output_type": "display_data",
          "data": {
            "text/plain": [
              "<Figure size 640x480 with 2 Axes>"
            ],
            "image/png": "[encoded data removed]"
          },
          "metadata": {}
        }
      ]
    },
    {
      "cell_type": "code",
      "source": [
        "\n",
        "df_decade = final_df.groupby('decade')['avg_rating'].mean()\n",
        "plt.figure(figsize=(8,5))\n",
        "plt.plot(df_decade.index, df_decade.values, marker='o')\n",
        "plt.xlabel(\"Dekada produkcji\")\n",
        "plt.ylabel(\"Średnia ocena filmu\")\n",
        "plt.title(\"Średnia ocena filmu vs dekada produkcji\")\n",
        "plt.show()"
      ],
      "metadata": {
        "colab": {
          "base_uri": "https://localhost:8080/",
          "height": 490
        },
        "id": "lYQQuHCilj8M",
        "outputId": "e4337413-e735-4930-c4d5-246d3ee91aff"
      },
      "execution_count": null,
      "outputs": [
        {
          "output_type": "display_data",
          "data": {
            "text/plain": [
              "<Figure size 800x500 with 1 Axes>"
            ],
            "image/png": "[encoded data removed]"
          },
          "metadata": {}
        }
      ]
    }
  ],
  "metadata": {
    "colab": {
      "provenance": []
    },
    "kernelspec": {
      "display_name": "Python 3",
      "name": "python3"
    },
    "language_info": {
      "name": "python"
    }
  },
  "nbformat": 4,
  "nbformat_minor": 0
}